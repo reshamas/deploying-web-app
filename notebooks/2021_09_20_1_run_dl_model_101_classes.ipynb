{
  "nbformat": 4,
  "nbformat_minor": 0,
  "metadata": {
    "accelerator": "GPU",
    "colab": {
      "name": "2021_09-20_1_run_dl_model_101_classes.ipynb",
      "provenance": [],
      "collapsed_sections": [],
      "toc_visible": true
    },
    "kernelspec": {
      "display_name": "Python 3",
      "name": "python3"
    }
  },
  "cells": [
    {
      "cell_type": "markdown",
      "metadata": {
        "id": "a2jji3LQ0LAp"
      },
      "source": [
        "# Manning liveProject: Deploy DL Model on Web & Mobile Using TensorFlow\n",
        "---\n",
        "## Milestone 1: Build an image classifier\n",
        "* ResNet50\n",
        "* MobileNetV2\n",
        "* MobileNetV2: fine-tuned\n",
        "\n",
        "## Solutions Notebook\n",
        "---\n",
        "#### Date updated:  20-Sep-2021\n",
        "#### Author:  Nidhin Pattaniyil & Reshama Shaikh\n"
      ]
    },
    {
      "cell_type": "code",
      "metadata": {
        "id": "8LRWAJYt4jv8",
        "colab": {
          "base_uri": "https://localhost:8080/"
        },
        "outputId": "582db96b-b8ab-4f66-b659-415462cea9fe"
      },
      "source": [
        "from datetime import date\n",
        "from datetime import datetime\n",
        "\n",
        "current_date = date.today()\n",
        "print(\"Today's date:\", current_date)"
      ],
      "execution_count": 1,
      "outputs": [
        {
          "output_type": "stream",
          "name": "stdout",
          "text": [
            "Today's date: 2021-09-27\n"
          ]
        }
      ]
    },
    {
      "cell_type": "code",
      "metadata": {
        "id": "Q1Y5mbjxwm_-",
        "colab": {
          "base_uri": "https://localhost:8080/"
        },
        "outputId": "c565dc43-c938-46a1-a1ee-6eb71f11dcd5"
      },
      "source": [
        "now1 = datetime.now()\n",
        "\n",
        "start_time = now1.strftime(\"%H:%M:%S\")\n",
        "print(\"Start Time =\", start_time)"
      ],
      "execution_count": 2,
      "outputs": [
        {
          "output_type": "stream",
          "name": "stdout",
          "text": [
            "Start Time = 11:06:46\n"
          ]
        }
      ]
    },
    {
      "cell_type": "code",
      "metadata": {
        "id": "Gs5vb902xRNC"
      },
      "source": [
        ""
      ],
      "execution_count": 2,
      "outputs": []
    },
    {
      "cell_type": "code",
      "metadata": {
        "id": "KM5tPUJ-xUxT"
      },
      "source": [
        ""
      ],
      "execution_count": 2,
      "outputs": []
    },
    {
      "cell_type": "code",
      "metadata": {
        "id": "KFh12cb80zbE",
        "colab": {
          "base_uri": "https://localhost:8080/",
          "height": 1000
        },
        "outputId": "4200428e-7609-487e-853a-aebcfa330992"
      },
      "source": [
        "# run this once (each session) if `watermark` library is not loaded, then comment out\n",
        "!pip install watermark tensorflow==2.3.*"
      ],
      "execution_count": 3,
      "outputs": [
        {
          "output_type": "stream",
          "name": "stdout",
          "text": [
            "Collecting watermark\n",
            "  Downloading watermark-2.2.0-py2.py3-none-any.whl (6.8 kB)\n",
            "Collecting tensorflow==2.3.*\n",
            "  Downloading tensorflow-2.3.4-cp37-cp37m-manylinux2010_x86_64.whl (320.6 MB)\n",
            "\u001b[K     |████████████████████████████████| 320.6 MB 48 kB/s \n",
            "\u001b[?25hRequirement already satisfied: absl-py>=0.7.0 in /usr/local/lib/python3.7/dist-packages (from tensorflow==2.3.*) (0.12.0)\n",
            "Requirement already satisfied: wrapt>=1.11.1 in /usr/local/lib/python3.7/dist-packages (from tensorflow==2.3.*) (1.12.1)\n",
            "Requirement already satisfied: wheel>=0.26 in /usr/local/lib/python3.7/dist-packages (from tensorflow==2.3.*) (0.37.0)\n",
            "Collecting h5py<2.11.0,>=2.10.0\n",
            "  Downloading h5py-2.10.0-cp37-cp37m-manylinux1_x86_64.whl (2.9 MB)\n",
            "\u001b[K     |████████████████████████████████| 2.9 MB 16.5 MB/s \n",
            "\u001b[?25hRequirement already satisfied: tensorboard<3,>=2.3.0 in /usr/local/lib/python3.7/dist-packages (from tensorflow==2.3.*) (2.6.0)\n",
            "Requirement already satisfied: keras-preprocessing<1.2,>=1.1.1 in /usr/local/lib/python3.7/dist-packages (from tensorflow==2.3.*) (1.1.2)\n",
            "Requirement already satisfied: opt-einsum>=2.3.2 in /usr/local/lib/python3.7/dist-packages (from tensorflow==2.3.*) (3.3.0)\n",
            "Requirement already satisfied: termcolor>=1.1.0 in /usr/local/lib/python3.7/dist-packages (from tensorflow==2.3.*) (1.1.0)\n",
            "Requirement already satisfied: six>=1.12.0 in /usr/local/lib/python3.7/dist-packages (from tensorflow==2.3.*) (1.15.0)\n",
            "Requirement already satisfied: grpcio>=1.8.6 in /usr/local/lib/python3.7/dist-packages (from tensorflow==2.3.*) (1.40.0)\n",
            "Collecting gast==0.3.3\n",
            "  Downloading gast-0.3.3-py2.py3-none-any.whl (9.7 kB)\n",
            "Requirement already satisfied: protobuf>=3.9.2 in /usr/local/lib/python3.7/dist-packages (from tensorflow==2.3.*) (3.17.3)\n",
            "Requirement already satisfied: astunparse==1.6.3 in /usr/local/lib/python3.7/dist-packages (from tensorflow==2.3.*) (1.6.3)\n",
            "Collecting numpy<1.19.0,>=1.16.0\n",
            "  Downloading numpy-1.18.5-cp37-cp37m-manylinux1_x86_64.whl (20.1 MB)\n",
            "\u001b[K     |████████████████████████████████| 20.1 MB 283 kB/s \n",
            "\u001b[?25hCollecting tensorflow-estimator<2.4.0,>=2.3.0\n",
            "  Downloading tensorflow_estimator-2.3.0-py2.py3-none-any.whl (459 kB)\n",
            "\u001b[K     |████████████████████████████████| 459 kB 71.2 MB/s \n",
            "\u001b[?25hRequirement already satisfied: google-pasta>=0.1.8 in /usr/local/lib/python3.7/dist-packages (from tensorflow==2.3.*) (0.2.0)\n",
            "Requirement already satisfied: requests<3,>=2.21.0 in /usr/local/lib/python3.7/dist-packages (from tensorboard<3,>=2.3.0->tensorflow==2.3.*) (2.23.0)\n",
            "Requirement already satisfied: google-auth-oauthlib<0.5,>=0.4.1 in /usr/local/lib/python3.7/dist-packages (from tensorboard<3,>=2.3.0->tensorflow==2.3.*) (0.4.6)\n",
            "Requirement already satisfied: werkzeug>=0.11.15 in /usr/local/lib/python3.7/dist-packages (from tensorboard<3,>=2.3.0->tensorflow==2.3.*) (1.0.1)\n",
            "Requirement already satisfied: google-auth<2,>=1.6.3 in /usr/local/lib/python3.7/dist-packages (from tensorboard<3,>=2.3.0->tensorflow==2.3.*) (1.35.0)\n",
            "Requirement already satisfied: tensorboard-data-server<0.7.0,>=0.6.0 in /usr/local/lib/python3.7/dist-packages (from tensorboard<3,>=2.3.0->tensorflow==2.3.*) (0.6.1)\n",
            "Requirement already satisfied: markdown>=2.6.8 in /usr/local/lib/python3.7/dist-packages (from tensorboard<3,>=2.3.0->tensorflow==2.3.*) (3.3.4)\n",
            "Requirement already satisfied: tensorboard-plugin-wit>=1.6.0 in /usr/local/lib/python3.7/dist-packages (from tensorboard<3,>=2.3.0->tensorflow==2.3.*) (1.8.0)\n",
            "Requirement already satisfied: setuptools>=41.0.0 in /usr/local/lib/python3.7/dist-packages (from tensorboard<3,>=2.3.0->tensorflow==2.3.*) (57.4.0)\n",
            "Requirement already satisfied: pyasn1-modules>=0.2.1 in /usr/local/lib/python3.7/dist-packages (from google-auth<2,>=1.6.3->tensorboard<3,>=2.3.0->tensorflow==2.3.*) (0.2.8)\n",
            "Requirement already satisfied: rsa<5,>=3.1.4 in /usr/local/lib/python3.7/dist-packages (from google-auth<2,>=1.6.3->tensorboard<3,>=2.3.0->tensorflow==2.3.*) (4.7.2)\n",
            "Requirement already satisfied: cachetools<5.0,>=2.0.0 in /usr/local/lib/python3.7/dist-packages (from google-auth<2,>=1.6.3->tensorboard<3,>=2.3.0->tensorflow==2.3.*) (4.2.2)\n",
            "Requirement already satisfied: requests-oauthlib>=0.7.0 in /usr/local/lib/python3.7/dist-packages (from google-auth-oauthlib<0.5,>=0.4.1->tensorboard<3,>=2.3.0->tensorflow==2.3.*) (1.3.0)\n",
            "Requirement already satisfied: importlib-metadata in /usr/local/lib/python3.7/dist-packages (from markdown>=2.6.8->tensorboard<3,>=2.3.0->tensorflow==2.3.*) (4.8.1)\n",
            "Requirement already satisfied: pyasn1<0.5.0,>=0.4.6 in /usr/local/lib/python3.7/dist-packages (from pyasn1-modules>=0.2.1->google-auth<2,>=1.6.3->tensorboard<3,>=2.3.0->tensorflow==2.3.*) (0.4.8)\n",
            "Requirement already satisfied: certifi>=2017.4.17 in /usr/local/lib/python3.7/dist-packages (from requests<3,>=2.21.0->tensorboard<3,>=2.3.0->tensorflow==2.3.*) (2021.5.30)\n",
            "Requirement already satisfied: urllib3!=1.25.0,!=1.25.1,<1.26,>=1.21.1 in /usr/local/lib/python3.7/dist-packages (from requests<3,>=2.21.0->tensorboard<3,>=2.3.0->tensorflow==2.3.*) (1.24.3)\n",
            "Requirement already satisfied: idna<3,>=2.5 in /usr/local/lib/python3.7/dist-packages (from requests<3,>=2.21.0->tensorboard<3,>=2.3.0->tensorflow==2.3.*) (2.10)\n",
            "Requirement already satisfied: chardet<4,>=3.0.2 in /usr/local/lib/python3.7/dist-packages (from requests<3,>=2.21.0->tensorboard<3,>=2.3.0->tensorflow==2.3.*) (3.0.4)\n",
            "Requirement already satisfied: oauthlib>=3.0.0 in /usr/local/lib/python3.7/dist-packages (from requests-oauthlib>=0.7.0->google-auth-oauthlib<0.5,>=0.4.1->tensorboard<3,>=2.3.0->tensorflow==2.3.*) (3.1.1)\n",
            "Collecting importlib-metadata\n",
            "  Downloading importlib_metadata-2.1.1-py2.py3-none-any.whl (10 kB)\n",
            "Requirement already satisfied: ipython in /usr/local/lib/python3.7/dist-packages (from watermark) (5.5.0)\n",
            "Requirement already satisfied: zipp>=0.5 in /usr/local/lib/python3.7/dist-packages (from importlib-metadata->markdown>=2.6.8->tensorboard<3,>=2.3.0->tensorflow==2.3.*) (3.5.0)\n",
            "Requirement already satisfied: pickleshare in /usr/local/lib/python3.7/dist-packages (from ipython->watermark) (0.7.5)\n",
            "Requirement already satisfied: simplegeneric>0.8 in /usr/local/lib/python3.7/dist-packages (from ipython->watermark) (0.8.1)\n",
            "Requirement already satisfied: decorator in /usr/local/lib/python3.7/dist-packages (from ipython->watermark) (4.4.2)\n",
            "Requirement already satisfied: pygments in /usr/local/lib/python3.7/dist-packages (from ipython->watermark) (2.6.1)\n",
            "Requirement already satisfied: traitlets>=4.2 in /usr/local/lib/python3.7/dist-packages (from ipython->watermark) (5.1.0)\n",
            "Requirement already satisfied: prompt-toolkit<2.0.0,>=1.0.4 in /usr/local/lib/python3.7/dist-packages (from ipython->watermark) (1.0.18)\n",
            "Requirement already satisfied: pexpect in /usr/local/lib/python3.7/dist-packages (from ipython->watermark) (4.8.0)\n",
            "Requirement already satisfied: wcwidth in /usr/local/lib/python3.7/dist-packages (from prompt-toolkit<2.0.0,>=1.0.4->ipython->watermark) (0.2.5)\n",
            "Requirement already satisfied: ptyprocess>=0.5 in /usr/local/lib/python3.7/dist-packages (from pexpect->ipython->watermark) (0.7.0)\n",
            "Installing collected packages: importlib-metadata, numpy, tensorflow-estimator, h5py, gast, watermark, tensorflow\n",
            "  Attempting uninstall: importlib-metadata\n",
            "    Found existing installation: importlib-metadata 4.8.1\n",
            "    Uninstalling importlib-metadata-4.8.1:\n",
            "      Successfully uninstalled importlib-metadata-4.8.1\n",
            "  Attempting uninstall: numpy\n",
            "    Found existing installation: numpy 1.19.5\n",
            "    Uninstalling numpy-1.19.5:\n",
            "      Successfully uninstalled numpy-1.19.5\n",
            "  Attempting uninstall: tensorflow-estimator\n",
            "    Found existing installation: tensorflow-estimator 2.6.0\n",
            "    Uninstalling tensorflow-estimator-2.6.0:\n",
            "      Successfully uninstalled tensorflow-estimator-2.6.0\n",
            "  Attempting uninstall: h5py\n",
            "    Found existing installation: h5py 3.1.0\n",
            "    Uninstalling h5py-3.1.0:\n",
            "      Successfully uninstalled h5py-3.1.0\n",
            "  Attempting uninstall: gast\n",
            "    Found existing installation: gast 0.4.0\n",
            "    Uninstalling gast-0.4.0:\n",
            "      Successfully uninstalled gast-0.4.0\n",
            "  Attempting uninstall: tensorflow\n",
            "    Found existing installation: tensorflow 2.6.0\n",
            "    Uninstalling tensorflow-2.6.0:\n",
            "      Successfully uninstalled tensorflow-2.6.0\n",
            "\u001b[31mERROR: pip's dependency resolver does not currently take into account all the packages that are installed. This behaviour is the source of the following dependency conflicts.\n",
            "datascience 0.10.6 requires folium==0.2.1, but you have folium 0.8.3 which is incompatible.\n",
            "albumentations 0.1.12 requires imgaug<0.2.7,>=0.2.5, but you have imgaug 0.2.9 which is incompatible.\u001b[0m\n",
            "Successfully installed gast-0.3.3 h5py-2.10.0 importlib-metadata-2.1.1 numpy-1.18.5 tensorflow-2.3.4 tensorflow-estimator-2.3.0 watermark-2.2.0\n"
          ]
        },
        {
          "output_type": "display_data",
          "data": {
            "application/vnd.colab-display-data+json": {
              "pip_warning": {
                "packages": [
                  "numpy"
                ]
              }
            }
          },
          "metadata": {}
        }
      ]
    },
    {
      "cell_type": "code",
      "metadata": {
        "id": "KF2VkBMxzqmr"
      },
      "source": [
        "# import libraries\n",
        "#import pandas as pd\n",
        "import requests\n",
        "import glob\n",
        "from io import BytesIO\n",
        "import numpy as np\n",
        "import os\n",
        "import shutil\n",
        "import pprint\n",
        "import json\n",
        "from pprint import pprint\n"
      ],
      "execution_count": 4,
      "outputs": []
    },
    {
      "cell_type": "code",
      "metadata": {
        "id": "fgQANa-S0gAQ"
      },
      "source": [
        "import IPython.display as display\n",
        "from PIL import Image\n",
        "import numpy as np\n",
        "import matplotlib.pyplot as plt\n",
        "import os"
      ],
      "execution_count": 5,
      "outputs": []
    },
    {
      "cell_type": "code",
      "metadata": {
        "id": "wFtsAWFB4887"
      },
      "source": [
        "import tensorflow as tf\n",
        "import pathlib\n",
        "import tensorflow_hub as hub"
      ],
      "execution_count": 6,
      "outputs": []
    },
    {
      "cell_type": "code",
      "metadata": {
        "id": "WiMSleV30kAE"
      },
      "source": [
        "import watermark\n",
        "%load_ext watermark\n",
        "#%reload_ext watermark"
      ],
      "execution_count": 7,
      "outputs": []
    },
    {
      "cell_type": "code",
      "metadata": {
        "colab": {
          "base_uri": "https://localhost:8080/"
        },
        "id": "LbstfaBp0qR1",
        "outputId": "c9e1b842-91ba-400e-b48a-313b905389de"
      },
      "source": [
        "# see version of system, python and libraries\n",
        "%watermark -n -v -m -g -iv"
      ],
      "execution_count": 8,
      "outputs": [
        {
          "output_type": "stream",
          "name": "stdout",
          "text": [
            "Python implementation: CPython\n",
            "Python version       : 3.7.12\n",
            "IPython version      : 5.5.0\n",
            "\n",
            "Compiler    : GCC 7.5.0\n",
            "OS          : Linux\n",
            "Release     : 5.4.104+\n",
            "Machine     : x86_64\n",
            "Processor   : x86_64\n",
            "CPU cores   : 2\n",
            "Architecture: 64bit\n",
            "\n",
            "Git hash: \n",
            "\n",
            "requests      : 2.23.0\n",
            "json          : 2.0.9\n",
            "numpy         : 1.18.5\n",
            "matplotlib    : 3.2.2\n",
            "pathlib       : 1.0.1\n",
            "tensorflow_hub: 0.12.0\n",
            "tensorflow    : 2.3.4\n",
            "watermark     : 2.2.0\n",
            "IPython       : 5.5.0\n",
            "PIL           : 7.1.2\n",
            "\n"
          ]
        }
      ]
    },
    {
      "cell_type": "code",
      "metadata": {
        "colab": {
          "base_uri": "https://localhost:8080/",
          "height": 35
        },
        "id": "vdGngfwTb-LH",
        "outputId": "2d340f74-06ac-4700-b982-6ad2d5289f07"
      },
      "source": [
        "tf.__version__\n"
      ],
      "execution_count": 9,
      "outputs": [
        {
          "output_type": "execute_result",
          "data": {
            "application/vnd.google.colaboratory.intrinsic+json": {
              "type": "string"
            },
            "text/plain": [
              "'2.3.4'"
            ]
          },
          "metadata": {},
          "execution_count": 9
        }
      ]
    },
    {
      "cell_type": "markdown",
      "metadata": {
        "id": "kEqdRy-jl_7K"
      },
      "source": [
        "# Running GPU on Colab\n",
        "Ensure that GPU is running on this Colab notebook by following below steps.\n",
        "1. Colab Menu: Select \"Runtime\"\n",
        "2. \"Change runtime type\"\n",
        "3. Select \"Hardware Accelerator\" = GPU\n",
        "4. Save"
      ]
    },
    {
      "cell_type": "code",
      "metadata": {
        "colab": {
          "base_uri": "https://localhost:8080/"
        },
        "id": "nDISycD15Z0J",
        "outputId": "1033e5d6-5bf8-4c2e-8c3c-b7bbf88c0e78"
      },
      "source": [
        "# confirm that GPU is running\n",
        "tf.config.list_physical_devices('GPU')\n"
      ],
      "execution_count": 10,
      "outputs": [
        {
          "output_type": "execute_result",
          "data": {
            "text/plain": [
              "[PhysicalDevice(name='/physical_device:GPU:0', device_type='GPU')]"
            ]
          },
          "metadata": {},
          "execution_count": 10
        }
      ]
    },
    {
      "cell_type": "code",
      "metadata": {
        "colab": {
          "base_uri": "https://localhost:8080/",
          "height": 35
        },
        "id": "Cd-AUp875hQP",
        "outputId": "016ebde8-1c1c-45f1-9684-6a7254a5a521"
      },
      "source": [
        "tf.test.gpu_device_name()"
      ],
      "execution_count": 11,
      "outputs": [
        {
          "output_type": "execute_result",
          "data": {
            "application/vnd.google.colaboratory.intrinsic+json": {
              "type": "string"
            },
            "text/plain": [
              "'/device:GPU:0'"
            ]
          },
          "metadata": {},
          "execution_count": 11
        }
      ]
    },
    {
      "cell_type": "markdown",
      "metadata": {
        "id": "twHKZbDln0Rw"
      },
      "source": [
        "# Setup Project Folder"
      ]
    },
    {
      "cell_type": "code",
      "metadata": {
        "colab": {
          "base_uri": "https://localhost:8080/"
        },
        "id": "4JqBBSuGnJqj",
        "outputId": "ad841360-381f-40a3-b199-3b5b8bc9b767"
      },
      "source": [
        "!pwd"
      ],
      "execution_count": 12,
      "outputs": [
        {
          "output_type": "stream",
          "name": "stdout",
          "text": [
            "/content\n"
          ]
        }
      ]
    },
    {
      "cell_type": "code",
      "metadata": {
        "colab": {
          "base_uri": "https://localhost:8080/"
        },
        "id": "nq0oWuqfp1Bt",
        "outputId": "e0442f7a-027d-4725-82ed-23526c99d184"
      },
      "source": [
        "!ls -lF"
      ],
      "execution_count": 13,
      "outputs": [
        {
          "output_type": "stream",
          "name": "stdout",
          "text": [
            "total 4\n",
            "drwxr-xr-x 1 root root 4096 Sep 16 13:40 sample_data/\n"
          ]
        }
      ]
    },
    {
      "cell_type": "code",
      "metadata": {
        "id": "aULYc0cdn4P4"
      },
      "source": [
        "PROJECT_NAME = \"project_food_dl\""
      ],
      "execution_count": 14,
      "outputs": []
    },
    {
      "cell_type": "code",
      "metadata": {
        "id": "7Z1kAeYv1XLt"
      },
      "source": [
        "# create a sub-directory for the data\n",
        "# run this once and comment out\n",
        "!mkdir -p {PROJECT_NAME}"
      ],
      "execution_count": 15,
      "outputs": []
    },
    {
      "cell_type": "code",
      "metadata": {
        "colab": {
          "base_uri": "https://localhost:8080/"
        },
        "id": "z03s6v80oOxy",
        "outputId": "21ab60da-1e61-40f1-8f3e-b50404cdf8e2"
      },
      "source": [
        "!ls -lF"
      ],
      "execution_count": 16,
      "outputs": [
        {
          "output_type": "stream",
          "name": "stdout",
          "text": [
            "total 8\n",
            "drwxr-xr-x 2 root root 4096 Sep 27 11:07 project_food_dl/\n",
            "drwxr-xr-x 1 root root 4096 Sep 16 13:40 sample_data/\n"
          ]
        }
      ]
    },
    {
      "cell_type": "code",
      "metadata": {
        "colab": {
          "base_uri": "https://localhost:8080/"
        },
        "id": "UJuUSZjtWH75",
        "outputId": "088aa8be-cfc6-49b7-bbae-76ea847942b2"
      },
      "source": [
        "!ls -lF {PROJECT_NAME}"
      ],
      "execution_count": 17,
      "outputs": [
        {
          "output_type": "stream",
          "name": "stdout",
          "text": [
            "total 0\n"
          ]
        }
      ]
    },
    {
      "cell_type": "code",
      "metadata": {
        "id": "9LjF61RUWS6V"
      },
      "source": [
        "# remove log files from models\n",
        "!rm -rf {PROJECT_NAME}/artifacts\n"
      ],
      "execution_count": 18,
      "outputs": []
    },
    {
      "cell_type": "code",
      "metadata": {
        "id": "ZRLwRz78WkJK",
        "colab": {
          "base_uri": "https://localhost:8080/"
        },
        "outputId": "bcf1d6ab-64b3-4d42-cf24-6339e1dad826"
      },
      "source": [
        "!rm {PROJECT_NAME}/data/food-101.tar.gz"
      ],
      "execution_count": 19,
      "outputs": [
        {
          "output_type": "stream",
          "name": "stdout",
          "text": [
            "rm: cannot remove 'project_food_dl/data/food-101.tar.gz': No such file or directory\n"
          ]
        }
      ]
    },
    {
      "cell_type": "code",
      "metadata": {
        "colab": {
          "base_uri": "https://localhost:8080/"
        },
        "id": "HX3Kz2FvYPDM",
        "outputId": "8a9deaad-dc00-442d-a2d1-8d5b2f16c888"
      },
      "source": [
        "!rm artifacts.zip"
      ],
      "execution_count": 20,
      "outputs": [
        {
          "output_type": "stream",
          "name": "stdout",
          "text": [
            "rm: cannot remove 'artifacts.zip': No such file or directory\n"
          ]
        }
      ]
    },
    {
      "cell_type": "code",
      "metadata": {
        "id": "I6yPDTs4mxg3"
      },
      "source": [
        "# create a sub-directory for data\n",
        "!mkdir -p {PROJECT_NAME}/data"
      ],
      "execution_count": 21,
      "outputs": []
    },
    {
      "cell_type": "code",
      "metadata": {
        "colab": {
          "base_uri": "https://localhost:8080/"
        },
        "id": "6ucUB9MQoiF9",
        "outputId": "30eb1755-02f7-4793-e989-172723ad07c0"
      },
      "source": [
        "!ls {PROJECT_NAME} -lF"
      ],
      "execution_count": 22,
      "outputs": [
        {
          "output_type": "stream",
          "name": "stdout",
          "text": [
            "total 4\n",
            "drwxr-xr-x 2 root root 4096 Sep 27 11:07 data/\n"
          ]
        }
      ]
    },
    {
      "cell_type": "markdown",
      "metadata": {
        "id": "gYgWLloApHWI"
      },
      "source": [
        "Artifacts is common ML term used to describe the output created by the training process.\n",
        "\n",
        "The output could be a fully trained model, a model checkpoint (for resuming training later), or simply a file created during the training process such as an image generated while training a Generative Adversarial Network (GAN).  \n",
        "In the case of a Deep Learning model, the model artifacts are the trained weights stored in a binary format.\n"
      ]
    },
    {
      "cell_type": "code",
      "metadata": {
        "id": "KTWGkG26ok36"
      },
      "source": [
        "# create a sub-directory for artifacts\n",
        "!mkdir -p {PROJECT_NAME}/artifacts"
      ],
      "execution_count": 23,
      "outputs": []
    },
    {
      "cell_type": "code",
      "metadata": {
        "colab": {
          "base_uri": "https://localhost:8080/"
        },
        "id": "7_x5OW_dowRr",
        "outputId": "d789f0d3-05f3-4def-8d65-e7734c4d83e8"
      },
      "source": [
        "!ls {PROJECT_NAME} -lF"
      ],
      "execution_count": 24,
      "outputs": [
        {
          "output_type": "stream",
          "name": "stdout",
          "text": [
            "total 8\n",
            "drwxr-xr-x 2 root root 4096 Sep 27 11:07 artifacts/\n",
            "drwxr-xr-x 2 root root 4096 Sep 27 11:07 data/\n"
          ]
        }
      ]
    },
    {
      "cell_type": "markdown",
      "metadata": {
        "id": "Ou6WJYn28B_B"
      },
      "source": [
        "# Get Data"
      ]
    },
    {
      "cell_type": "code",
      "metadata": {
        "colab": {
          "base_uri": "https://localhost:8080/"
        },
        "id": "pFzm8-JUiLiB",
        "outputId": "74ef78ee-4bac-41bc-e72e-990ba39f85a7"
      },
      "source": [
        "# [internal]\n",
        "# Reshama can use in Collab (to save time)\n",
        "#!wget https://storage.googleapis.com/np-training-public/datasets/food/food-101.tar.gz -P {PROJECT_NAME}/data\n",
        "!wget http://data.vision.ee.ethz.ch/cvl/food-101.tar.gz -P {PROJECT_NAME}/data\n",
        "  "
      ],
      "execution_count": 25,
      "outputs": [
        {
          "output_type": "stream",
          "name": "stdout",
          "text": [
            "--2021-09-27 11:07:13--  http://data.vision.ee.ethz.ch/cvl/food-101.tar.gz\n",
            "Resolving data.vision.ee.ethz.ch (data.vision.ee.ethz.ch)... 129.132.52.178, 2001:67c:10ec:36c2::178\n",
            "Connecting to data.vision.ee.ethz.ch (data.vision.ee.ethz.ch)|129.132.52.178|:80... connected.\n",
            "HTTP request sent, awaiting response... 302 Found\n",
            "Location: https://data.vision.ee.ethz.ch/cvl/food-101.tar.gz [following]\n",
            "--2021-09-27 11:07:13--  https://data.vision.ee.ethz.ch/cvl/food-101.tar.gz\n",
            "Connecting to data.vision.ee.ethz.ch (data.vision.ee.ethz.ch)|129.132.52.178|:443... connected.\n",
            "HTTP request sent, awaiting response... 200 OK\n",
            "Length: 4996278331 (4.7G) [application/x-gzip]\n",
            "Saving to: ‘project_food_dl/data/food-101.tar.gz’\n",
            "\n",
            "food-101.tar.gz     100%[===================>]   4.65G  10.4MB/s    in 4m 47s  \n",
            "\n",
            "2021-09-27 11:12:01 (16.6 MB/s) - ‘project_food_dl/data/food-101.tar.gz’ saved [4996278331/4996278331]\n",
            "\n"
          ]
        }
      ]
    },
    {
      "cell_type": "code",
      "metadata": {
        "id": "IV3o6sof09lW"
      },
      "source": [
        "# load the data\n",
        "# run this once each session and comment out\n",
        "# this takes about 8 minutes\n",
        "#!wget http://data.vision.ee.ethz.ch/cvl/food-101.tar.gz -P {PROJECT_NAME}/data"
      ],
      "execution_count": 26,
      "outputs": []
    },
    {
      "cell_type": "code",
      "metadata": {
        "id": "stqqJc561hxH"
      },
      "source": [
        "# unpack the data\n",
        "# run only once, then comment out \n",
        "\n",
        "!tar xzf {PROJECT_NAME}/data/food-101.tar.gz -C {PROJECT_NAME}/data"
      ],
      "execution_count": 27,
      "outputs": []
    },
    {
      "cell_type": "code",
      "metadata": {
        "colab": {
          "base_uri": "https://localhost:8080/"
        },
        "id": "ltGPhCJutcK6",
        "outputId": "c526f81e-a463-4932-d2e5-66820a887ba0"
      },
      "source": [
        "!ls {PROJECT_NAME} -lF"
      ],
      "execution_count": 28,
      "outputs": [
        {
          "output_type": "stream",
          "name": "stdout",
          "text": [
            "total 8\n",
            "drwxr-xr-x 2 root root 4096 Sep 27 11:07 artifacts/\n",
            "drwxr-xr-x 3 root root 4096 Sep 27 11:12 data/\n"
          ]
        }
      ]
    },
    {
      "cell_type": "code",
      "metadata": {
        "id": "dVzHTT4Y8YBx"
      },
      "source": [
        "DATA_DIR = str(PROJECT_NAME)+\"/data/food-101/images\"\n",
        "DATA_DIR = pathlib.Path(DATA_DIR)"
      ],
      "execution_count": 29,
      "outputs": []
    },
    {
      "cell_type": "code",
      "metadata": {
        "colab": {
          "base_uri": "https://localhost:8080/"
        },
        "id": "oqZKhFwR8bDW",
        "outputId": "388e666c-8282-44ac-b864-8347c247e72a"
      },
      "source": [
        "DATA_DIR\n"
      ],
      "execution_count": 30,
      "outputs": [
        {
          "output_type": "execute_result",
          "data": {
            "text/plain": [
              "PosixPath('project_food_dl/data/food-101/images')"
            ]
          },
          "metadata": {},
          "execution_count": 30
        }
      ]
    },
    {
      "cell_type": "markdown",
      "metadata": {
        "id": "ojoU1UKa3t77"
      },
      "source": [
        "# Look at dataset"
      ]
    },
    {
      "cell_type": "code",
      "metadata": {
        "colab": {
          "base_uri": "https://localhost:8080/"
        },
        "id": "U4vZy2ti30eX",
        "outputId": "fbbf1d6a-8aa9-4afa-b6eb-440ddb1b5f65"
      },
      "source": [
        "# look at folder names\n",
        "!ls {DATA_DIR} | head -5"
      ],
      "execution_count": 31,
      "outputs": [
        {
          "output_type": "stream",
          "name": "stdout",
          "text": [
            "apple_pie\n",
            "baby_back_ribs\n",
            "baklava\n",
            "beef_carpaccio\n",
            "beef_tartare\n"
          ]
        }
      ]
    },
    {
      "cell_type": "code",
      "metadata": {
        "colab": {
          "base_uri": "https://localhost:8080/"
        },
        "id": "kkZmKmUG30qB",
        "outputId": "c0457ebc-6f76-43f9-dcab-1ff5f6798966"
      },
      "source": [
        "# look at first five images in first image folder\n",
        "!ls {DATA_DIR}/apple_pie | head -5"
      ],
      "execution_count": 32,
      "outputs": [
        {
          "output_type": "stream",
          "name": "stdout",
          "text": [
            "1005649.jpg\n",
            "1011328.jpg\n",
            "101251.jpg\n",
            "1014775.jpg\n",
            "1026328.jpg\n"
          ]
        }
      ]
    },
    {
      "cell_type": "code",
      "metadata": {
        "colab": {
          "base_uri": "https://localhost:8080/"
        },
        "id": "2h1HfkCn304h",
        "outputId": "bc799f55-eca0-42dd-c109-588739f725c6"
      },
      "source": [
        "# find out how many total images there are in database\n",
        "image_count = len(list(DATA_DIR.glob('*/*.jpg')))\n",
        "image_count"
      ],
      "execution_count": 33,
      "outputs": [
        {
          "output_type": "execute_result",
          "data": {
            "text/plain": [
              "101000"
            ]
          },
          "metadata": {},
          "execution_count": 33
        }
      ]
    },
    {
      "cell_type": "code",
      "metadata": {
        "colab": {
          "base_uri": "https://localhost:8080/"
        },
        "id": "biXjyk-VvrGP",
        "outputId": "4d8e5539-f7a2-4310-a2b8-c369fe020140"
      },
      "source": [
        "# find out how many different classes there are\n",
        "ALL_CLASS_NAMES = sorted(np.array([item.name for item in DATA_DIR.glob('*')]))\n",
        "print(len(ALL_CLASS_NAMES))"
      ],
      "execution_count": 34,
      "outputs": [
        {
          "output_type": "stream",
          "name": "stdout",
          "text": [
            "101\n"
          ]
        }
      ]
    },
    {
      "cell_type": "code",
      "metadata": {
        "colab": {
          "base_uri": "https://localhost:8080/"
        },
        "id": "cLaB5XjClydq",
        "outputId": "71109d21-0f08-41f4-8b33-806e5d21e8ad"
      },
      "source": [
        "ALL_CLASS_NAMES[:10]"
      ],
      "execution_count": 35,
      "outputs": [
        {
          "output_type": "execute_result",
          "data": {
            "text/plain": [
              "['apple_pie',\n",
              " 'baby_back_ribs',\n",
              " 'baklava',\n",
              " 'beef_carpaccio',\n",
              " 'beef_tartare',\n",
              " 'beet_salad',\n",
              " 'beignets',\n",
              " 'bibimbap',\n",
              " 'bread_pudding',\n",
              " 'breakfast_burrito']"
            ]
          },
          "metadata": {},
          "execution_count": 35
        }
      ]
    },
    {
      "cell_type": "code",
      "metadata": {
        "id": "67sN9AFCl-i9"
      },
      "source": [
        " "
      ],
      "execution_count": 35,
      "outputs": []
    },
    {
      "cell_type": "markdown",
      "metadata": {
        "id": "EKJIdfOz9I6M"
      },
      "source": [
        "# Use Subset of Data\n",
        "(to speed up training)"
      ]
    },
    {
      "cell_type": "code",
      "metadata": {
        "colab": {
          "base_uri": "https://localhost:8080/"
        },
        "id": "gk0v6yfTmYjb",
        "outputId": "ea17f1be-9166-4565-80f6-9d0bafa4cb08"
      },
      "source": [
        "# Use full dataset (all classes)\n",
        "subset = len(ALL_CLASS_NAMES)\n",
        "subset"
      ],
      "execution_count": 36,
      "outputs": [
        {
          "output_type": "execute_result",
          "data": {
            "text/plain": [
              "101"
            ]
          },
          "metadata": {},
          "execution_count": 36
        }
      ]
    },
    {
      "cell_type": "code",
      "metadata": {
        "id": "7-YtYAWsmdxc"
      },
      "source": [
        "# use subset of classes\n",
        "# NOTE: if subset=102, we are using the full dataset\n",
        "start=0\n",
        "subset = 102\n",
        "#subset = 3"
      ],
      "execution_count": 37,
      "outputs": []
    },
    {
      "cell_type": "code",
      "metadata": {
        "colab": {
          "base_uri": "https://localhost:8080/"
        },
        "id": "QHoQMuvVR5UF",
        "outputId": "d197c4ef-9b92-42b5-8af3-9fe590f35cb1"
      },
      "source": [
        "USE_CLASS_NAMES = ALL_CLASS_NAMES[start:start+subset]\n",
        "print(len(USE_CLASS_NAMES))\n",
        "print(\"first few classes: \")\n",
        "pprint(USE_CLASS_NAMES[:7])"
      ],
      "execution_count": 38,
      "outputs": [
        {
          "output_type": "stream",
          "name": "stdout",
          "text": [
            "101\n",
            "first few classes: \n",
            "['apple_pie',\n",
            " 'baby_back_ribs',\n",
            " 'baklava',\n",
            " 'beef_carpaccio',\n",
            " 'beef_tartare',\n",
            " 'beet_salad',\n",
            " 'beignets']\n"
          ]
        }
      ]
    },
    {
      "cell_type": "code",
      "metadata": {
        "colab": {
          "base_uri": "https://localhost:8080/",
          "height": 35
        },
        "id": "sg_j92G_Ah7P",
        "outputId": "f570ffbc-4e4d-4ba5-893c-8cc2f7a7ac03"
      },
      "source": [
        "# let's examine one class\n",
        "class1 = USE_CLASS_NAMES[0]\n",
        "class1"
      ],
      "execution_count": 39,
      "outputs": [
        {
          "output_type": "execute_result",
          "data": {
            "application/vnd.google.colaboratory.intrinsic+json": {
              "type": "string"
            },
            "text/plain": [
              "'apple_pie'"
            ]
          },
          "metadata": {},
          "execution_count": 39
        }
      ]
    },
    {
      "cell_type": "markdown",
      "metadata": {
        "id": "lzZ9ETvD0wac"
      },
      "source": [
        "# Save classes as classes.json\n",
        "\n",
        "We want to save classes as a `*.json` file, so it will look like:\n",
        "```json\n",
        "[\"ceviche\", \"cheese_plate\", \"cheesecake\", \"chicken_curry\", \"chicken_quesadilla\", \"chicken_wings\", \"chocolate_cake\", \"chocolate_mousse\", \"churros\", \"clam_chowder\"]\n",
        "```\n",
        "\n",
        "#### example of `txt` file\n",
        "```text\n",
        "ceviche\n",
        "cheese_plate\n",
        "cheesecake\n",
        "...\n",
        "```\n",
        "\n"
      ]
    },
    {
      "cell_type": "code",
      "metadata": {
        "id": "fENjf2_-0vHh"
      },
      "source": [
        "# with open(f\"{PROJECT_NAME}/artifacts/classes.txt\",'w') as f:\n",
        "#   f.write('\\n'.join(USE_CLASS_NAMES))\n",
        "\n",
        "# with open(f\"{PROJECT_NAME}/artifacts/classes.json\",'w') as f:\n",
        "#   json.dump(USE_CLASS_NAMES, f)"
      ],
      "execution_count": 40,
      "outputs": []
    },
    {
      "cell_type": "markdown",
      "metadata": {
        "id": "wTuGfjWS31KD"
      },
      "source": [
        ""
      ]
    },
    {
      "cell_type": "code",
      "metadata": {
        "id": "9h0eB56h1nYg"
      },
      "source": [
        "# with open(f\"{PROJECT_NAME}/artifacts/classes.json\",'r') as f:\n",
        "#   json.dump(USE_CLASS_NAMES, f)"
      ],
      "execution_count": 41,
      "outputs": []
    },
    {
      "cell_type": "code",
      "metadata": {
        "id": "WDM69K691nk2"
      },
      "source": [
        ""
      ],
      "execution_count": 41,
      "outputs": []
    },
    {
      "cell_type": "code",
      "metadata": {
        "id": "bj3IuU361n7N"
      },
      "source": [
        ""
      ],
      "execution_count": 41,
      "outputs": []
    },
    {
      "cell_type": "markdown",
      "metadata": {
        "id": "cqKpCtdOzx-1"
      },
      "source": [
        "# Look at Images"
      ]
    },
    {
      "cell_type": "code",
      "metadata": {
        "colab": {
          "base_uri": "https://localhost:8080/",
          "height": 563
        },
        "id": "DttFFRdw91st",
        "outputId": "75d82b1f-d966-44ea-a275-3b99a2563310"
      },
      "source": [
        "images = list(DATA_DIR.glob(f'{class1}/*'))\n",
        "\n",
        "for image_path in images[:2]:\n",
        "    # resize image\n",
        "    im = Image.open(str(image_path))\n",
        "    w, h = im.size\n",
        "    print('Image Size (w, h): ', w, \",\",  h)\n",
        "    percent_resize = 0.5\n",
        "    im = im.resize((int(w*percent_resize), int(h*percent_resize)))\n",
        "    display.display(im)"
      ],
      "execution_count": 42,
      "outputs": [
        {
          "output_type": "stream",
          "name": "stdout",
          "text": [
            "Image Size (w, h):  511 , 512\n"
          ]
        },
        {
          "output_type": "display_data",
          "data": {
            "image/png": "[encoded data removed]",
            "text/plain": [
              "<PIL.Image.Image image mode=RGB size=255x256 at 0x7FF88306A190>"
            ]
          },
          "metadata": {}
        },
        {
          "output_type": "stream",
          "name": "stdout",
          "text": [
            "Image Size (w, h):  512 , 512\n"
          ]
        },
        {
          "output_type": "display_data",
          "data": {
            "image/png": "[encoded data removed]",
            "text/plain": [
              "<PIL.Image.Image image mode=RGB size=256x256 at 0x7FF8220CDED0>"
            ]
          },
          "metadata": {}
        }
      ]
    },
    {
      "cell_type": "code",
      "metadata": {
        "id": "VNlINYE6p0Qy"
      },
      "source": [
        ""
      ],
      "execution_count": 42,
      "outputs": []
    },
    {
      "cell_type": "markdown",
      "metadata": {
        "id": "q-Jx2g1O4KeW"
      },
      "source": [
        "# Setup for Training Model\n"
      ]
    },
    {
      "cell_type": "markdown",
      "metadata": {
        "id": "iVlaKld4l_uk"
      },
      "source": [
        "\n",
        "The ImageDataGenerator is used to create training and validation splits. It also has several builtin image preprocessing transformations.\n",
        "\n",
        "https://www.tensorflow.org/api_docs/python/tf/keras/preprocessing/image/ImageDataGenerator"
      ]
    },
    {
      "cell_type": "code",
      "metadata": {
        "colab": {
          "base_uri": "https://localhost:8080/"
        },
        "id": "EKdhtarel1P5",
        "outputId": "1e5f7610-8c82-4019-e204-cf9eb79cbd80"
      },
      "source": [
        "BATCH_SIZE = 32\n",
        "IMG_HEIGHT = 224\n",
        "IMG_WIDTH = 224\n",
        "STEPS_PER_EPOCH = np.ceil(image_count/BATCH_SIZE)\n",
        "\n",
        "print(\"Number of classes we are training: \" ,len(USE_CLASS_NAMES))\n",
        "print(\"\\nList of classes\")  \n",
        "list(USE_CLASS_NAMES)[:10]"
      ],
      "execution_count": 43,
      "outputs": [
        {
          "output_type": "stream",
          "name": "stdout",
          "text": [
            "Number of classes we are training:  101\n",
            "\n",
            "List of classes\n"
          ]
        },
        {
          "output_type": "execute_result",
          "data": {
            "text/plain": [
              "['apple_pie',\n",
              " 'baby_back_ribs',\n",
              " 'baklava',\n",
              " 'beef_carpaccio',\n",
              " 'beef_tartare',\n",
              " 'beet_salad',\n",
              " 'beignets',\n",
              " 'bibimbap',\n",
              " 'bread_pudding',\n",
              " 'breakfast_burrito']"
            ]
          },
          "metadata": {},
          "execution_count": 43
        }
      ]
    },
    {
      "cell_type": "code",
      "metadata": {
        "id": "Mys3-V4-lwDq"
      },
      "source": [
        "def get_image_data_generator(preprocessing_function=tf.keras.applications.mobilenet_v2.preprocess_input ):\n",
        "  image_generator = tf.keras.preprocessing.image.ImageDataGenerator(\n",
        "    validation_split=0.2,\n",
        "    preprocessing_function=preprocessing_function\n",
        "  )\n",
        "\n",
        "\n",
        "\n",
        "  # create a data generator object with options (location of images, batch size, option to shuffle, etc)\n",
        "  image_data_gen = image_generator.flow_from_directory(\n",
        "      directory=str(DATA_DIR),\n",
        "      batch_size=BATCH_SIZE,\n",
        "      shuffle=True,\n",
        "      target_size=(IMG_HEIGHT, IMG_WIDTH),\n",
        "      classes = list(USE_CLASS_NAMES)\n",
        "      )\n",
        "\n",
        "  return image_data_gen"
      ],
      "execution_count": 44,
      "outputs": []
    },
    {
      "cell_type": "code",
      "metadata": {
        "id": "K5kyoQCRMDbc",
        "colab": {
          "base_uri": "https://localhost:8080/"
        },
        "outputId": "d1ab8ab5-ac55-47fa-e600-ae31b8c9ef8f"
      },
      "source": [
        "image_data_gen = get_image_data_generator (preprocessing_function=tf.keras.applications.mobilenet_v2.preprocess_input)\n"
      ],
      "execution_count": 45,
      "outputs": [
        {
          "output_type": "stream",
          "name": "stdout",
          "text": [
            "Found 101000 images belonging to 101 classes.\n"
          ]
        }
      ]
    },
    {
      "cell_type": "markdown",
      "metadata": {
        "id": "H-VZbiM9MDuh"
      },
      "source": [
        "# Save list of classes"
      ]
    },
    {
      "cell_type": "code",
      "metadata": {
        "colab": {
          "base_uri": "https://localhost:8080/"
        },
        "id": "DgpsH0i6rDW-",
        "outputId": "f4633e49-f85b-478d-c02c-fefd4e3c44c1"
      },
      "source": [
        "image_data_gen.num_classes\n"
      ],
      "execution_count": 46,
      "outputs": [
        {
          "output_type": "execute_result",
          "data": {
            "text/plain": [
              "101"
            ]
          },
          "metadata": {},
          "execution_count": 46
        }
      ]
    },
    {
      "cell_type": "code",
      "metadata": {
        "colab": {
          "base_uri": "https://localhost:8080/"
        },
        "id": "L1y-gb89GhL2",
        "outputId": "7981bbb0-0440-4195-da0c-eb2fac674d1d"
      },
      "source": [
        "image_data_gen.class_indices.keys"
      ],
      "execution_count": 47,
      "outputs": [
        {
          "output_type": "execute_result",
          "data": {
            "text/plain": [
              "<function dict.keys>"
            ]
          },
          "metadata": {},
          "execution_count": 47
        }
      ]
    },
    {
      "cell_type": "code",
      "metadata": {
        "colab": {
          "base_uri": "https://localhost:8080/"
        },
        "id": "eFmz5pkNKpz1",
        "outputId": "86856feb-a54b-4f52-c5f2-ace65b2cb17c"
      },
      "source": [
        "image_data_gen.class_indices.keys()"
      ],
      "execution_count": 48,
      "outputs": [
        {
          "output_type": "execute_result",
          "data": {
            "text/plain": [
              "dict_keys(['apple_pie', 'baby_back_ribs', 'baklava', 'beef_carpaccio', 'beef_tartare', 'beet_salad', 'beignets', 'bibimbap', 'bread_pudding', 'breakfast_burrito', 'bruschetta', 'caesar_salad', 'cannoli', 'caprese_salad', 'carrot_cake', 'ceviche', 'cheese_plate', 'cheesecake', 'chicken_curry', 'chicken_quesadilla', 'chicken_wings', 'chocolate_cake', 'chocolate_mousse', 'churros', 'clam_chowder', 'club_sandwich', 'crab_cakes', 'creme_brulee', 'croque_madame', 'cup_cakes', 'deviled_eggs', 'donuts', 'dumplings', 'edamame', 'eggs_benedict', 'escargots', 'falafel', 'filet_mignon', 'fish_and_chips', 'foie_gras', 'french_fries', 'french_onion_soup', 'french_toast', 'fried_calamari', 'fried_rice', 'frozen_yogurt', 'garlic_bread', 'gnocchi', 'greek_salad', 'grilled_cheese_sandwich', 'grilled_salmon', 'guacamole', 'gyoza', 'hamburger', 'hot_and_sour_soup', 'hot_dog', 'huevos_rancheros', 'hummus', 'ice_cream', 'lasagna', 'lobster_bisque', 'lobster_roll_sandwich', 'macaroni_and_cheese', 'macarons', 'miso_soup', 'mussels', 'nachos', 'omelette', 'onion_rings', 'oysters', 'pad_thai', 'paella', 'pancakes', 'panna_cotta', 'peking_duck', 'pho', 'pizza', 'pork_chop', 'poutine', 'prime_rib', 'pulled_pork_sandwich', 'ramen', 'ravioli', 'red_velvet_cake', 'risotto', 'samosa', 'sashimi', 'scallops', 'seaweed_salad', 'shrimp_and_grits', 'spaghetti_bolognese', 'spaghetti_carbonara', 'spring_rolls', 'steak', 'strawberry_shortcake', 'sushi', 'tacos', 'takoyaki', 'tiramisu', 'tuna_tartare', 'waffles'])"
            ]
          },
          "metadata": {},
          "execution_count": 48
        }
      ]
    },
    {
      "cell_type": "code",
      "metadata": {
        "id": "PqHkvoFzLFA7"
      },
      "source": [
        "list_of_classes = list(image_data_gen.class_indices.keys())"
      ],
      "execution_count": 49,
      "outputs": []
    },
    {
      "cell_type": "code",
      "metadata": {
        "colab": {
          "base_uri": "https://localhost:8080/"
        },
        "id": "IfwjwtgdLJey",
        "outputId": "67ab357b-5702-4de6-b566-772ef58dbc72"
      },
      "source": [
        "list_of_classes[:15]"
      ],
      "execution_count": 50,
      "outputs": [
        {
          "output_type": "execute_result",
          "data": {
            "text/plain": [
              "['apple_pie',\n",
              " 'baby_back_ribs',\n",
              " 'baklava',\n",
              " 'beef_carpaccio',\n",
              " 'beef_tartare',\n",
              " 'beet_salad',\n",
              " 'beignets',\n",
              " 'bibimbap',\n",
              " 'bread_pudding',\n",
              " 'breakfast_burrito',\n",
              " 'bruschetta',\n",
              " 'caesar_salad',\n",
              " 'cannoli',\n",
              " 'caprese_salad',\n",
              " 'carrot_cake']"
            ]
          },
          "metadata": {},
          "execution_count": 50
        }
      ]
    },
    {
      "cell_type": "code",
      "metadata": {
        "id": "6wpPOH3NLcgQ"
      },
      "source": [
        "with open(f\"{PROJECT_NAME}/artifacts/classes.json\",'w') as f:\n",
        "  json.dump(list_of_classes, f)"
      ],
      "execution_count": 51,
      "outputs": []
    },
    {
      "cell_type": "code",
      "metadata": {
        "id": "FDR4OrxUrIba"
      },
      "source": [
        "def load_image(path:str) :\n",
        "    img = Image.open(path)\n",
        "    img = np.array(img)/255.0\n",
        "    return img"
      ],
      "execution_count": 52,
      "outputs": []
    },
    {
      "cell_type": "code",
      "metadata": {
        "colab": {
          "base_uri": "https://localhost:8080/"
        },
        "id": "sPVY9jcxrLjy",
        "outputId": "922b8489-9664-4fa3-bf51-2071f528a0c9"
      },
      "source": [
        "!ls -lh {DATA_DIR}/{class1}/ | head -6"
      ],
      "execution_count": 53,
      "outputs": [
        {
          "output_type": "stream",
          "name": "stdout",
          "text": [
            "total 49M\n",
            "-rw-r--r-- 1 3156 320  42K Sep 21  2013 1005649.jpg\n",
            "-rw-r--r-- 1 3156 320  40K Sep 21  2013 1011328.jpg\n",
            "-rw-r--r-- 1 3156 320  34K Sep 21  2013 101251.jpg\n",
            "-rw-r--r-- 1 3156 320  47K Sep 21  2013 1014775.jpg\n",
            "-rw-r--r-- 1 3156 320  58K Sep 21  2013 1026328.jpg\n"
          ]
        }
      ]
    },
    {
      "cell_type": "code",
      "metadata": {
        "id": "TO9kwG3KrOgj"
      },
      "source": [
        "#load_image(f\"{data_dir}/{class1}/1005649.jpg\").shape"
      ],
      "execution_count": 54,
      "outputs": []
    },
    {
      "cell_type": "code",
      "metadata": {
        "id": "pt3Ce1dgrTfH"
      },
      "source": [
        "#plt.imshow(load_image(f\"{data_dir}/{class1}/1005649.jpg\"))"
      ],
      "execution_count": 55,
      "outputs": []
    },
    {
      "cell_type": "code",
      "metadata": {
        "id": "VaUPgCy5XhgG"
      },
      "source": [
        "#?plt.imshow"
      ],
      "execution_count": 56,
      "outputs": []
    },
    {
      "cell_type": "code",
      "metadata": {
        "id": "IugzXnuoallE"
      },
      "source": [
        "#?tf.keras.utils.normalize"
      ],
      "execution_count": 57,
      "outputs": []
    },
    {
      "cell_type": "code",
      "metadata": {
        "id": "BxKk2LiurWLH"
      },
      "source": [
        "# does some pre-processing (built into image generator)\n",
        "def show_batch(image_batch, label_batch):\n",
        "  plt.figure(figsize=(10,10))\n",
        "  for n in range(25):\n",
        "      ax = plt.subplot(5,5,n+1)\n",
        "      print(im.size)\n",
        "\n",
        "      plt.imshow(image_batch[n]) # norm=(-1,1)\n",
        "      plt.title(USE_CLASS_NAMES[label_batch[n]==1][0].title())\n",
        "      plt.axis('off')"
      ],
      "execution_count": 58,
      "outputs": []
    },
    {
      "cell_type": "code",
      "metadata": {
        "id": "2ztApbLNrfco"
      },
      "source": [
        "# ! this code not working  (ask Nidhin)\n",
        "\n",
        "image_batch, label_batch = next(image_data_gen)\n",
        "#show_batch(image_batch, label_batch)\n"
      ],
      "execution_count": 59,
      "outputs": []
    },
    {
      "cell_type": "markdown",
      "metadata": {
        "id": "hJmGNuk5I4WW"
      },
      "source": [
        "# Model Architectures"
      ]
    },
    {
      "cell_type": "code",
      "metadata": {
        "id": "uQKcGZZDA_SU"
      },
      "source": [
        "# define dictionary\n",
        "classifier={}\n"
      ],
      "execution_count": 60,
      "outputs": []
    },
    {
      "cell_type": "code",
      "metadata": {
        "colab": {
          "base_uri": "https://localhost:8080/"
        },
        "id": "8ACIGV078SKf",
        "outputId": "2a576262-1785-436d-ff80-e096ea02f131"
      },
      "source": [
        "model_name = ['VGG19','ResNet50','MobileNetV2']\n",
        "model_name\n"
      ],
      "execution_count": 61,
      "outputs": [
        {
          "output_type": "execute_result",
          "data": {
            "text/plain": [
              "['VGG19', 'ResNet50', 'MobileNetV2']"
            ]
          },
          "metadata": {},
          "execution_count": 61
        }
      ]
    },
    {
      "cell_type": "code",
      "metadata": {
        "colab": {
          "base_uri": "https://localhost:8080/",
          "height": 35
        },
        "id": "Ei1Ll2fpFwkF",
        "outputId": "569194b9-b335-4276-9ff2-537a714a213d"
      },
      "source": [
        "model_name[0]"
      ],
      "execution_count": 62,
      "outputs": [
        {
          "output_type": "execute_result",
          "data": {
            "application/vnd.google.colaboratory.intrinsic+json": {
              "type": "string"
            },
            "text/plain": [
              "'VGG19'"
            ]
          },
          "metadata": {},
          "execution_count": 62
        }
      ]
    },
    {
      "cell_type": "code",
      "metadata": {
        "id": "QV8yXRfjJDM4"
      },
      "source": [
        "#classifier[model_name[0]]"
      ],
      "execution_count": 63,
      "outputs": []
    },
    {
      "cell_type": "markdown",
      "metadata": {
        "id": "IVUfnmBD-s4L"
      },
      "source": [
        "### Model 1: VGG19"
      ]
    },
    {
      "cell_type": "code",
      "metadata": {
        "colab": {
          "base_uri": "https://localhost:8080/"
        },
        "id": "FjOcZxBA-xQH",
        "outputId": "8f730e3a-ad73-4885-bf8c-c120e881d1b6"
      },
      "source": [
        "IMAGE_SHAPE = (IMG_HEIGHT, IMG_WIDTH)\n",
        "\n",
        "# Use VGG19 pretrained on ImageNet\n",
        "base_layers = tf.keras.applications.VGG19(weights='imagenet',include_top=False,input_shape=IMAGE_SHAPE+(3,) )\n",
        "\n",
        "# Add new layers to be finetuned\n",
        "# The last layer, is the classification layer and should match the number of classes in the dataset. The activation should be softmax \n",
        "clf = tf.keras.Sequential([\n",
        "    base_layers\n",
        "    , tf.keras.layers.GlobalAveragePooling2D()\n",
        "    , tf.keras.layers.Dense(1024, activation='relu')\n",
        "    , tf.keras.layers.Dense(image_data_gen.num_classes , name='classification', activation='softmax')\n",
        "])"
      ],
      "execution_count": 64,
      "outputs": [
        {
          "output_type": "stream",
          "name": "stdout",
          "text": [
            "Downloading data from https://storage.googleapis.com/tensorflow/keras-applications/vgg19/vgg19_weights_tf_dim_ordering_tf_kernels_notop.h5\n",
            "80142336/80134624 [==============================] - 1s 0us/step\n"
          ]
        }
      ]
    },
    {
      "cell_type": "code",
      "metadata": {
        "colab": {
          "base_uri": "https://localhost:8080/"
        },
        "id": "XDSTa83H-xMY",
        "outputId": "c89e2be3-4603-4056-d8f8-649d7c56ae76"
      },
      "source": [
        "clf.summary()"
      ],
      "execution_count": 65,
      "outputs": [
        {
          "output_type": "stream",
          "name": "stdout",
          "text": [
            "Model: \"sequential\"\n",
            "_________________________________________________________________\n",
            "Layer (type)                 Output Shape              Param #   \n",
            "=================================================================\n",
            "vgg19 (Functional)           (None, 7, 7, 512)         20024384  \n",
            "_________________________________________________________________\n",
            "global_average_pooling2d (Gl (None, 512)               0         \n",
            "_________________________________________________________________\n",
            "dense (Dense)                (None, 1024)              525312    \n",
            "_________________________________________________________________\n",
            "classification (Dense)       (None, 101)               103525    \n",
            "=================================================================\n",
            "Total params: 20,653,221\n",
            "Trainable params: 20,653,221\n",
            "Non-trainable params: 0\n",
            "_________________________________________________________________\n"
          ]
        }
      ]
    },
    {
      "cell_type": "code",
      "metadata": {
        "id": "LTb5gj78-xI-"
      },
      "source": [
        "# freezes the base layers\n",
        "base_layers.trainable = False"
      ],
      "execution_count": 66,
      "outputs": []
    },
    {
      "cell_type": "code",
      "metadata": {
        "colab": {
          "base_uri": "https://localhost:8080/"
        },
        "id": "xdc-1YtD-9H6",
        "outputId": "5388bd0c-1c08-490f-86a9-71131e83d095"
      },
      "source": [
        "# notice that after freezing the base layers, the non trainable params are equal to the number of parameters in the base layer \n",
        "clf.summary()"
      ],
      "execution_count": 67,
      "outputs": [
        {
          "output_type": "stream",
          "name": "stdout",
          "text": [
            "Model: \"sequential\"\n",
            "_________________________________________________________________\n",
            "Layer (type)                 Output Shape              Param #   \n",
            "=================================================================\n",
            "vgg19 (Functional)           (None, 7, 7, 512)         20024384  \n",
            "_________________________________________________________________\n",
            "global_average_pooling2d (Gl (None, 512)               0         \n",
            "_________________________________________________________________\n",
            "dense (Dense)                (None, 1024)              525312    \n",
            "_________________________________________________________________\n",
            "classification (Dense)       (None, 101)               103525    \n",
            "=================================================================\n",
            "Total params: 20,653,221\n",
            "Trainable params: 628,837\n",
            "Non-trainable params: 20,024,384\n",
            "_________________________________________________________________\n"
          ]
        }
      ]
    },
    {
      "cell_type": "code",
      "metadata": {
        "id": "c15yvBKp_HSb"
      },
      "source": [
        "callbacks = [\n",
        "    tf.keras.callbacks.CSVLogger(str(str(PROJECT_NAME)+\"/artifacts/training_VGG19.log\"))\n",
        "]"
      ],
      "execution_count": 68,
      "outputs": []
    },
    {
      "cell_type": "code",
      "metadata": {
        "id": "1Jf0G26w-_zT"
      },
      "source": [
        "# Set the model to use Adam optimizer , cross entropy loss, and track accuracy.\n",
        "# Since the dataset has multiple classes, we are using cross entropy loss.\n",
        "clf.compile(\n",
        "  optimizer=tf.keras.optimizers.Adam(),\n",
        "  loss='categorical_crossentropy' ,\n",
        "  metrics=['acc'])"
      ],
      "execution_count": 69,
      "outputs": []
    },
    {
      "cell_type": "code",
      "metadata": {
        "colab": {
          "base_uri": "https://localhost:8080/"
        },
        "id": "6BFq-Qc6-_ve",
        "outputId": "c93aa765-f72e-4d12-919a-e43f7ea5ac3e"
      },
      "source": [
        "# train the model for 5 epochs\n",
        "%%time\n",
        "image_data_gen = get_image_data_generator (preprocessing_function=tf.keras.applications.vgg19.preprocess_input)\n",
        "history = clf.fit(image_data_gen\n",
        "                        ,epochs=5\n",
        "                        ,workers=8 \n",
        "                        ,callbacks=callbacks\n",
        "                        )"
      ],
      "execution_count": 70,
      "outputs": [
        {
          "output_type": "stream",
          "name": "stdout",
          "text": [
            "Found 101000 images belonging to 101 classes.\n",
            "Epoch 1/5\n",
            "3157/3157 [==============================] - 414s 131ms/step - loss: 2.2618 - acc: 0.4535\n",
            "Epoch 2/5\n",
            "3157/3157 [==============================] - 403s 128ms/step - loss: 1.8350 - acc: 0.5330\n",
            "Epoch 3/5\n",
            "3157/3157 [==============================] - 399s 126ms/step - loss: 1.7211 - acc: 0.5583\n",
            "Epoch 4/5\n",
            "3157/3157 [==============================] - 398s 126ms/step - loss: 1.6418 - acc: 0.5757\n",
            "Epoch 5/5\n",
            "3157/3157 [==============================] - 397s 126ms/step - loss: 1.5768 - acc: 0.5921\n",
            "CPU times: user 59min 19s, sys: 2min 4s, total: 1h 1min 23s\n",
            "Wall time: 33min 45s\n"
          ]
        }
      ]
    },
    {
      "cell_type": "code",
      "metadata": {
        "id": "hN-z3Z07-9EP"
      },
      "source": [
        "export_path = str(PROJECT_NAME)+\"/artifacts/model_VGG19.h5\"\n",
        "export_path\n",
        "clf.save(export_path, save_format='h5')"
      ],
      "execution_count": 71,
      "outputs": []
    },
    {
      "cell_type": "code",
      "metadata": {
        "id": "LdlVOcYW-w7Q"
      },
      "source": [
        ""
      ],
      "execution_count": 71,
      "outputs": []
    },
    {
      "cell_type": "markdown",
      "metadata": {
        "id": "8dE6YQT0mPgk"
      },
      "source": [
        "### Model 2:  ResNet50"
      ]
    },
    {
      "cell_type": "code",
      "metadata": {
        "id": "3hbGfCjfoM0h",
        "colab": {
          "base_uri": "https://localhost:8080/"
        },
        "outputId": "92353983-996e-4fba-85c6-5f488c2aad46"
      },
      "source": [
        "IMAGE_SHAPE = (IMG_HEIGHT, IMG_WIDTH)\n",
        "\n",
        "classifier['ResNet50'] = tf.keras.Sequential([\n",
        "    #hub.KerasLayer(classifier_url, input_shape=IMAGE_SHAPE+(3,) , name='pretrained')\n",
        "    tf.keras.applications.ResNet50(weights='imagenet', include_top=False,input_shape=IMAGE_SHAPE+(3,) )\n",
        "    , tf.keras.layers.GlobalAveragePooling2D()\n",
        "    , tf.keras.layers.Dense(1024, activation='relu')\n",
        "    ,tf.keras.layers.Dense(image_data_gen.num_classes , name='classification', activation='softmax')\n",
        "\n",
        "    \n",
        "])"
      ],
      "execution_count": 72,
      "outputs": [
        {
          "output_type": "stream",
          "name": "stdout",
          "text": [
            "Downloading data from https://storage.googleapis.com/tensorflow/keras-applications/resnet/resnet50_weights_tf_dim_ordering_tf_kernels_notop.h5\n",
            "94773248/94765736 [==============================] - 1s 0us/step\n"
          ]
        }
      ]
    },
    {
      "cell_type": "code",
      "metadata": {
        "id": "9i4-ngeVKIOD"
      },
      "source": [
        "clf = classifier['ResNet50']"
      ],
      "execution_count": 73,
      "outputs": []
    },
    {
      "cell_type": "code",
      "metadata": {
        "colab": {
          "base_uri": "https://localhost:8080/"
        },
        "id": "FYYyROWkoNAF",
        "outputId": "85cc3dab-af4e-439e-d657-86a95dbf54ab"
      },
      "source": [
        "clf.summary()"
      ],
      "execution_count": 74,
      "outputs": [
        {
          "output_type": "stream",
          "name": "stdout",
          "text": [
            "Model: \"sequential_1\"\n",
            "_________________________________________________________________\n",
            "Layer (type)                 Output Shape              Param #   \n",
            "=================================================================\n",
            "resnet50 (Functional)        (None, 7, 7, 2048)        23587712  \n",
            "_________________________________________________________________\n",
            "global_average_pooling2d_1 ( (None, 2048)              0         \n",
            "_________________________________________________________________\n",
            "dense_1 (Dense)              (None, 1024)              2098176   \n",
            "_________________________________________________________________\n",
            "classification (Dense)       (None, 101)               103525    \n",
            "=================================================================\n",
            "Total params: 25,789,413\n",
            "Trainable params: 25,736,293\n",
            "Non-trainable params: 53,120\n",
            "_________________________________________________________________\n"
          ]
        }
      ]
    },
    {
      "cell_type": "code",
      "metadata": {
        "id": "VXHqJo_roNN0"
      },
      "source": [
        "clf.layers[0].trainable = False\n"
      ],
      "execution_count": 75,
      "outputs": []
    },
    {
      "cell_type": "code",
      "metadata": {
        "colab": {
          "base_uri": "https://localhost:8080/"
        },
        "id": "zganMD1yqJrW",
        "outputId": "dcc1d5dd-c72a-4c69-d613-d7ca40276906"
      },
      "source": [
        "clf.summary()"
      ],
      "execution_count": 76,
      "outputs": [
        {
          "output_type": "stream",
          "name": "stdout",
          "text": [
            "Model: \"sequential_1\"\n",
            "_________________________________________________________________\n",
            "Layer (type)                 Output Shape              Param #   \n",
            "=================================================================\n",
            "resnet50 (Functional)        (None, 7, 7, 2048)        23587712  \n",
            "_________________________________________________________________\n",
            "global_average_pooling2d_1 ( (None, 2048)              0         \n",
            "_________________________________________________________________\n",
            "dense_1 (Dense)              (None, 1024)              2098176   \n",
            "_________________________________________________________________\n",
            "classification (Dense)       (None, 101)               103525    \n",
            "=================================================================\n",
            "Total params: 25,789,413\n",
            "Trainable params: 2,201,701\n",
            "Non-trainable params: 23,587,712\n",
            "_________________________________________________________________\n"
          ]
        }
      ]
    },
    {
      "cell_type": "code",
      "metadata": {
        "id": "H4o9F12IlJR6"
      },
      "source": [
        "?tf.keras.optimizers.Adam"
      ],
      "execution_count": 77,
      "outputs": []
    },
    {
      "cell_type": "code",
      "metadata": {
        "id": "OkEXrz9MO5Hn"
      },
      "source": [
        "clf.compile(\n",
        "  optimizer=tf.keras.optimizers.Adam(),\n",
        "  #loss=tf.keras.losses.CategoricalCrossentropy(from_logits=True),\n",
        "  loss='categorical_crossentropy' ,\n",
        "  metrics=['acc'])"
      ],
      "execution_count": 78,
      "outputs": []
    },
    {
      "cell_type": "code",
      "metadata": {
        "id": "sPDriHUBPCYG"
      },
      "source": [
        "callbacks = [\n",
        "    tf.keras.callbacks.CSVLogger(str(str(PROJECT_NAME)+\"/artifacts/training_ResNet50.log\"))\n",
        "]"
      ],
      "execution_count": 79,
      "outputs": []
    },
    {
      "cell_type": "markdown",
      "metadata": {
        "id": "no2m63oz74i-"
      },
      "source": [
        "#### Model results"
      ]
    },
    {
      "cell_type": "code",
      "metadata": {
        "colab": {
          "base_uri": "https://localhost:8080/"
        },
        "id": "kBqfINjVO7lY",
        "outputId": "dd0a1e79-2254-4d33-b684-aeda0dedc8cc"
      },
      "source": [
        "%%time\n",
        "image_data_gen = get_image_data_generator (preprocessing_function=tf.keras.applications.resnet50.preprocess_input)\n",
        "\n",
        "history = clf.fit(image_data_gen\n",
        "                        ,epochs=5\n",
        "                        ,workers=8 \n",
        "                        ,callbacks=callbacks\n",
        "                        )"
      ],
      "execution_count": 80,
      "outputs": [
        {
          "output_type": "stream",
          "name": "stdout",
          "text": [
            "Found 101000 images belonging to 101 classes.\n",
            "Epoch 1/5\n",
            "3157/3157 [==============================] - 395s 125ms/step - loss: 1.8881 - acc: 0.5193\n",
            "Epoch 2/5\n",
            "3157/3157 [==============================] - 395s 125ms/step - loss: 1.4662 - acc: 0.6131\n",
            "Epoch 3/5\n",
            "3157/3157 [==============================] - 396s 126ms/step - loss: 1.2940 - acc: 0.6518\n",
            "Epoch 4/5\n",
            "3157/3157 [==============================] - 396s 125ms/step - loss: 1.1599 - acc: 0.6847\n",
            "Epoch 5/5\n",
            "3157/3157 [==============================] - 395s 125ms/step - loss: 1.0501 - acc: 0.7096\n",
            "CPU times: user 59min 27s, sys: 1min 36s, total: 1h 1min 4s\n",
            "Wall time: 33min 12s\n"
          ]
        }
      ]
    },
    {
      "cell_type": "markdown",
      "metadata": {
        "id": "iiSVGKSaK-Zg"
      },
      "source": [
        "#### Save model"
      ]
    },
    {
      "cell_type": "code",
      "metadata": {
        "id": "OkuoCV-TPNBR"
      },
      "source": [
        "export_path = str(PROJECT_NAME)+\"/artifacts/model_ResNet50.h5\"\n",
        "export_path\n",
        "clf.save(export_path, save_format='h5')"
      ],
      "execution_count": 81,
      "outputs": []
    },
    {
      "cell_type": "markdown",
      "metadata": {
        "id": "WsF-EVy9Jlcv"
      },
      "source": [
        "## Model 3: MobileNetV2 (Final)"
      ]
    },
    {
      "cell_type": "code",
      "metadata": {
        "id": "IJf_j5gZrri8",
        "colab": {
          "base_uri": "https://localhost:8080/"
        },
        "outputId": "91a6d57a-f45e-4e53-8147-a8e3377b1422"
      },
      "source": [
        "IMAGE_SHAPE = (IMG_HEIGHT, IMG_WIDTH)\n",
        "\n",
        "classifier['MobileNetV2'] = tf.keras.Sequential([\n",
        "    #hub.KerasLayer(classifier_url, input_shape=IMAGE_SHAPE+(3,) , name='pretrained')\n",
        "    tf.keras.applications.MobileNetV2(weights='imagenet',include_top=False,input_shape=IMAGE_SHAPE+(3,) )\n",
        "    , tf.keras.layers.GlobalAveragePooling2D()\n",
        "    , tf.keras.layers.Dense(1024, activation='relu')\n",
        "\n",
        "    ,tf.keras.layers.Dense(image_data_gen.num_classes , name='classification', activation='softmax')\n",
        "    \n",
        "])"
      ],
      "execution_count": 82,
      "outputs": [
        {
          "output_type": "stream",
          "name": "stdout",
          "text": [
            "Downloading data from https://storage.googleapis.com/tensorflow/keras-applications/mobilenet_v2/mobilenet_v2_weights_tf_dim_ordering_tf_kernels_1.0_224_no_top.h5\n",
            "9412608/9406464 [==============================] - 0s 0us/step\n"
          ]
        }
      ]
    },
    {
      "cell_type": "code",
      "metadata": {
        "id": "bJvUxM1tLb-S"
      },
      "source": [
        "clf = classifier['MobileNetV2']"
      ],
      "execution_count": 83,
      "outputs": []
    },
    {
      "cell_type": "code",
      "metadata": {
        "colab": {
          "base_uri": "https://localhost:8080/"
        },
        "id": "_e1fdYmjryAr",
        "outputId": "dbb30189-023e-4553-bd24-7859bfb86260"
      },
      "source": [
        "clf.summary()\n"
      ],
      "execution_count": 84,
      "outputs": [
        {
          "output_type": "stream",
          "name": "stdout",
          "text": [
            "Model: \"sequential_2\"\n",
            "_________________________________________________________________\n",
            "Layer (type)                 Output Shape              Param #   \n",
            "=================================================================\n",
            "mobilenetv2_1.00_224 (Functi (None, 7, 7, 1280)        2257984   \n",
            "_________________________________________________________________\n",
            "global_average_pooling2d_2 ( (None, 1280)              0         \n",
            "_________________________________________________________________\n",
            "dense_2 (Dense)              (None, 1024)              1311744   \n",
            "_________________________________________________________________\n",
            "classification (Dense)       (None, 101)               103525    \n",
            "=================================================================\n",
            "Total params: 3,673,253\n",
            "Trainable params: 3,639,141\n",
            "Non-trainable params: 34,112\n",
            "_________________________________________________________________\n"
          ]
        }
      ]
    },
    {
      "cell_type": "code",
      "metadata": {
        "id": "klcCgifJr3bB"
      },
      "source": [
        "# keep base network layers frozen\n",
        "clf.layers[0].trainable = False\n"
      ],
      "execution_count": 85,
      "outputs": []
    },
    {
      "cell_type": "code",
      "metadata": {
        "colab": {
          "base_uri": "https://localhost:8080/"
        },
        "id": "hN4dpQOYr76J",
        "outputId": "fd8d92db-d4a8-4280-b21e-10756525c02a"
      },
      "source": [
        "clf.summary()"
      ],
      "execution_count": 86,
      "outputs": [
        {
          "output_type": "stream",
          "name": "stdout",
          "text": [
            "Model: \"sequential_2\"\n",
            "_________________________________________________________________\n",
            "Layer (type)                 Output Shape              Param #   \n",
            "=================================================================\n",
            "mobilenetv2_1.00_224 (Functi (None, 7, 7, 1280)        2257984   \n",
            "_________________________________________________________________\n",
            "global_average_pooling2d_2 ( (None, 1280)              0         \n",
            "_________________________________________________________________\n",
            "dense_2 (Dense)              (None, 1024)              1311744   \n",
            "_________________________________________________________________\n",
            "classification (Dense)       (None, 101)               103525    \n",
            "=================================================================\n",
            "Total params: 3,673,253\n",
            "Trainable params: 1,415,269\n",
            "Non-trainable params: 2,257,984\n",
            "_________________________________________________________________\n"
          ]
        }
      ]
    },
    {
      "cell_type": "code",
      "metadata": {
        "id": "7RDTGc3ar9aI"
      },
      "source": [
        "clf.compile(\n",
        "  optimizer=tf.keras.optimizers.Adam(),\n",
        "  #loss=tf.keras.losses.CategoricalCrossentropy(from_logits=True),\n",
        "  loss='categorical_crossentropy' ,\n",
        "  metrics=['acc'])"
      ],
      "execution_count": 87,
      "outputs": []
    },
    {
      "cell_type": "code",
      "metadata": {
        "id": "bH81egKcsA5S"
      },
      "source": [
        "callbacks = [\n",
        "    tf.keras.callbacks.CSVLogger(str(str(PROJECT_NAME)+\"/artifacts/training_MobileNetV2.log\"))\n",
        "]\n",
        "\n"
      ],
      "execution_count": 88,
      "outputs": []
    },
    {
      "cell_type": "markdown",
      "metadata": {
        "id": "ucJhHQhH7_YH"
      },
      "source": [
        "#### Model results"
      ]
    },
    {
      "cell_type": "code",
      "metadata": {
        "colab": {
          "base_uri": "https://localhost:8080/"
        },
        "id": "O2rrFiAwsD3a",
        "outputId": "033c332b-a73d-4f87-8003-3a1c4004990c"
      },
      "source": [
        "%%time\n",
        "image_data_gen = get_image_data_generator (preprocessing_function=tf.keras.applications.mobilenet_v2.preprocess_input)\n",
        "\n",
        "history = clf.fit(image_data_gen\n",
        "                  ,epochs=5\n",
        "                  ,workers=8 \n",
        "                  ,callbacks=callbacks\n",
        "                  )"
      ],
      "execution_count": 89,
      "outputs": [
        {
          "output_type": "stream",
          "name": "stdout",
          "text": [
            "Found 101000 images belonging to 101 classes.\n",
            "Epoch 1/5\n",
            "3157/3157 [==============================] - 358s 114ms/step - loss: 1.9448 - acc: 0.5056\n",
            "Epoch 2/5\n",
            "3157/3157 [==============================] - 359s 114ms/step - loss: 1.5315 - acc: 0.5973\n",
            "Epoch 3/5\n",
            "3157/3157 [==============================] - 359s 114ms/step - loss: 1.3271 - acc: 0.6420\n",
            "Epoch 4/5\n",
            "3157/3157 [==============================] - 360s 114ms/step - loss: 1.1524 - acc: 0.6840\n",
            "Epoch 5/5\n",
            "3157/3157 [==============================] - 362s 115ms/step - loss: 0.9844 - acc: 0.7231\n",
            "CPU times: user 53min 55s, sys: 1min 45s, total: 55min 41s\n",
            "Wall time: 30min 11s\n"
          ]
        }
      ]
    },
    {
      "cell_type": "markdown",
      "metadata": {
        "id": "Uar_usQIzibr"
      },
      "source": [
        "#### Save model"
      ]
    },
    {
      "cell_type": "code",
      "metadata": {
        "id": "KrRK4qJyBhGB"
      },
      "source": [
        "# with open(f\"{PROJECT_NAME}/artifacts/classes.json\",'w') as f:\n",
        "#   json.dump(USE_CLASS_NAMES, f)"
      ],
      "execution_count": 90,
      "outputs": []
    },
    {
      "cell_type": "code",
      "metadata": {
        "id": "tC5E_rs5sObm"
      },
      "source": [
        "export_path = str(PROJECT_NAME)+\"/artifacts/model_MobileNetV2.h5\"\n",
        "export_path\n",
        "clf.save(export_path, save_format='h5')\n",
        "\n",
        "#clf.save(export_path, save_format='tf')\n"
      ],
      "execution_count": 91,
      "outputs": []
    },
    {
      "cell_type": "code",
      "metadata": {
        "id": "yVA9NicOsYJd"
      },
      "source": [
        "# syntax for loading model\n",
        "classifier_MobileNetV2 = tf.keras.models.load_model(export_path\n",
        "                                       # , custom_objects={'KerasLayer': hub.KerasLayer}\n",
        "                                       )"
      ],
      "execution_count": 92,
      "outputs": []
    },
    {
      "cell_type": "code",
      "metadata": {
        "colab": {
          "base_uri": "https://localhost:8080/"
        },
        "id": "cfdXTWP6sG4r",
        "outputId": "f79735e8-6640-4b2c-c1b3-3408968fcec4"
      },
      "source": [
        "print(len(image_data_gen))\n",
        "print(BATCH_SIZE)\n",
        "print(len(image_data_gen) * BATCH_SIZE)\n"
      ],
      "execution_count": 93,
      "outputs": [
        {
          "output_type": "stream",
          "name": "stdout",
          "text": [
            "3157\n",
            "32\n",
            "101024\n"
          ]
        }
      ]
    },
    {
      "cell_type": "code",
      "metadata": {
        "id": "c8D3yLhcmhy-"
      },
      "source": [
        "clf_final = clf "
      ],
      "execution_count": 94,
      "outputs": []
    },
    {
      "cell_type": "code",
      "metadata": {
        "colab": {
          "base_uri": "https://localhost:8080/"
        },
        "id": "mqMkBRuSi6p2",
        "outputId": "137ee392-aa95-4820-f362-11c820b9031b"
      },
      "source": [
        "classifier['MobileNetV2'].summary()"
      ],
      "execution_count": 95,
      "outputs": [
        {
          "output_type": "stream",
          "name": "stdout",
          "text": [
            "Model: \"sequential_2\"\n",
            "_________________________________________________________________\n",
            "Layer (type)                 Output Shape              Param #   \n",
            "=================================================================\n",
            "mobilenetv2_1.00_224 (Functi (None, 7, 7, 1280)        2257984   \n",
            "_________________________________________________________________\n",
            "global_average_pooling2d_2 ( (None, 1280)              0         \n",
            "_________________________________________________________________\n",
            "dense_2 (Dense)              (None, 1024)              1311744   \n",
            "_________________________________________________________________\n",
            "classification (Dense)       (None, 101)               103525    \n",
            "=================================================================\n",
            "Total params: 3,673,253\n",
            "Trainable params: 1,415,269\n",
            "Non-trainable params: 2,257,984\n",
            "_________________________________________________________________\n"
          ]
        }
      ]
    },
    {
      "cell_type": "code",
      "metadata": {
        "colab": {
          "base_uri": "https://localhost:8080/"
        },
        "id": "n_Wr7pfIWZUB",
        "outputId": "c957dd04-4a8e-458b-fac9-e76b2a315276"
      },
      "source": [
        "!ls"
      ],
      "execution_count": 96,
      "outputs": [
        {
          "output_type": "stream",
          "name": "stdout",
          "text": [
            "project_food_dl  sample_data\n"
          ]
        }
      ]
    },
    {
      "cell_type": "markdown",
      "metadata": {
        "id": "SG1yctSYSKTP"
      },
      "source": [
        "## Model 4: ResNet50 (fine-tuned)\n",
        "\n",
        "https://www.tensorflow.org/guide/keras/transfer_learning"
      ]
    },
    {
      "cell_type": "code",
      "metadata": {
        "id": "pNbYGlMfQiIw"
      },
      "source": [
        "BATCH_SIZE = 32  \n",
        "IMG_HEIGHT = 224\n",
        "IMG_WIDTH = 224\n",
        "STEPS_PER_EPOCH = np.ceil(image_count/BATCH_SIZE)"
      ],
      "execution_count": 97,
      "outputs": []
    },
    {
      "cell_type": "code",
      "metadata": {
        "colab": {
          "base_uri": "https://localhost:8080/"
        },
        "id": "aNtmmTsmRm9o",
        "outputId": "4d19d97f-9dc2-4ef2-ce30-efd5887f8a87"
      },
      "source": [
        "print(STEPS_PER_EPOCH)"
      ],
      "execution_count": 98,
      "outputs": [
        {
          "output_type": "stream",
          "name": "stdout",
          "text": [
            "3157.0\n"
          ]
        }
      ]
    },
    {
      "cell_type": "code",
      "metadata": {
        "id": "c7UE9J70QiRS"
      },
      "source": [
        "IMAGE_SHAPE = (IMG_HEIGHT, IMG_WIDTH)\n",
        "\n",
        "classifier['ResNet50_ft'] = tf.keras.Sequential([\n",
        "    #hub.KerasLayer(classifier_url, input_shape=IMAGE_SHAPE+(3,) , name='pretrained')\n",
        "    tf.keras.applications.ResNet50(weights='imagenet', include_top=False, input_shape=IMAGE_SHAPE+(3,) )\n",
        "    , tf.keras.layers.GlobalAveragePooling2D()\n",
        "    , tf.keras.layers.Dense(1024, activation='relu')\n",
        "    , tf.keras.layers.Dense(image_data_gen.num_classes, name='classification', activation='softmax')\n",
        "])"
      ],
      "execution_count": 99,
      "outputs": []
    },
    {
      "cell_type": "code",
      "metadata": {
        "id": "qOKVAzCgQib4"
      },
      "source": [
        "clf = classifier['ResNet50_ft']"
      ],
      "execution_count": 100,
      "outputs": []
    },
    {
      "cell_type": "code",
      "metadata": {
        "colab": {
          "base_uri": "https://localhost:8080/"
        },
        "id": "1SDnt7ilQimg",
        "outputId": "27ebe008-2ef9-4f0a-f258-ef35849a6930"
      },
      "source": [
        "clf.summary()"
      ],
      "execution_count": 101,
      "outputs": [
        {
          "output_type": "stream",
          "name": "stdout",
          "text": [
            "Model: \"sequential_3\"\n",
            "_________________________________________________________________\n",
            "Layer (type)                 Output Shape              Param #   \n",
            "=================================================================\n",
            "resnet50 (Functional)        (None, 7, 7, 2048)        23587712  \n",
            "_________________________________________________________________\n",
            "global_average_pooling2d_3 ( (None, 2048)              0         \n",
            "_________________________________________________________________\n",
            "dense_3 (Dense)              (None, 1024)              2098176   \n",
            "_________________________________________________________________\n",
            "classification (Dense)       (None, 101)               103525    \n",
            "=================================================================\n",
            "Total params: 25,789,413\n",
            "Trainable params: 25,736,293\n",
            "Non-trainable params: 53,120\n",
            "_________________________________________________________________\n"
          ]
        }
      ]
    },
    {
      "cell_type": "code",
      "metadata": {
        "id": "Wy20L5NMQi--"
      },
      "source": [
        "clf.layers[0].trainable = False\n"
      ],
      "execution_count": 102,
      "outputs": []
    },
    {
      "cell_type": "code",
      "metadata": {
        "colab": {
          "base_uri": "https://localhost:8080/"
        },
        "id": "Htfe6pFhTe5Y",
        "outputId": "c339cbea-4115-4ec8-fcbc-a0cc3aefb95e"
      },
      "source": [
        "clf.summary()"
      ],
      "execution_count": 103,
      "outputs": [
        {
          "output_type": "stream",
          "name": "stdout",
          "text": [
            "Model: \"sequential_3\"\n",
            "_________________________________________________________________\n",
            "Layer (type)                 Output Shape              Param #   \n",
            "=================================================================\n",
            "resnet50 (Functional)        (None, 7, 7, 2048)        23587712  \n",
            "_________________________________________________________________\n",
            "global_average_pooling2d_3 ( (None, 2048)              0         \n",
            "_________________________________________________________________\n",
            "dense_3 (Dense)              (None, 1024)              2098176   \n",
            "_________________________________________________________________\n",
            "classification (Dense)       (None, 101)               103525    \n",
            "=================================================================\n",
            "Total params: 25,789,413\n",
            "Trainable params: 2,201,701\n",
            "Non-trainable params: 23,587,712\n",
            "_________________________________________________________________\n"
          ]
        }
      ]
    },
    {
      "cell_type": "code",
      "metadata": {
        "id": "jxWR5mHRTe2z"
      },
      "source": [
        "clf.compile(\n",
        "  optimizer=tf.keras.optimizers.Adam(),\n",
        "  #loss=tf.keras.losses.CategoricalCrossentropy(from_logits=True),\n",
        "  loss='categorical_crossentropy' ,\n",
        "  metrics=['acc'])"
      ],
      "execution_count": 104,
      "outputs": []
    },
    {
      "cell_type": "code",
      "metadata": {
        "id": "KfyiGqzaTnqg"
      },
      "source": [
        "callbacks = [\n",
        "    tf.keras.callbacks.CSVLogger(str(str(PROJECT_NAME)+\"/artifacts/training_ResNet50_ft.log\"))\n",
        "]"
      ],
      "execution_count": 105,
      "outputs": []
    },
    {
      "cell_type": "markdown",
      "metadata": {
        "id": "XaXHE_BCUN70"
      },
      "source": [
        "#### epochs = 9 \n",
        "- increase batch size until accuracy decreases\n",
        "- then rerun from beginning using epoch size where max accuracy was observed"
      ]
    },
    {
      "cell_type": "markdown",
      "metadata": {
        "id": "jiTwQ3fu8Dp1"
      },
      "source": [
        "#### Model results"
      ]
    },
    {
      "cell_type": "code",
      "metadata": {
        "colab": {
          "base_uri": "https://localhost:8080/"
        },
        "id": "JdxVDXtOTn7F",
        "outputId": "f2524a54-1dca-4c20-c972-fdf3a119fecf"
      },
      "source": [
        "%%time\n",
        "# changed epochs=3 to epochs=9\n",
        "image_data_gen = get_image_data_generator (preprocessing_function=tf.keras.applications.resnet50.preprocess_input)\n",
        "\n",
        "history = clf.fit(image_data_gen\n",
        "                        ,epochs=9\n",
        "                        ,workers=8 \n",
        "                        ,callbacks=callbacks\n",
        "                        )"
      ],
      "execution_count": 106,
      "outputs": [
        {
          "output_type": "stream",
          "name": "stdout",
          "text": [
            "Found 101000 images belonging to 101 classes.\n",
            "Epoch 1/9\n",
            "3157/3157 [==============================] - 397s 126ms/step - loss: 1.8945 - acc: 0.5189\n",
            "Epoch 2/9\n",
            "3157/3157 [==============================] - 397s 126ms/step - loss: 1.4643 - acc: 0.6133\n",
            "Epoch 3/9\n",
            "3157/3157 [==============================] - 396s 125ms/step - loss: 1.2939 - acc: 0.6534\n",
            "Epoch 4/9\n",
            "3157/3157 [==============================] - 393s 125ms/step - loss: 1.1629 - acc: 0.6848\n",
            "Epoch 5/9\n",
            "3157/3157 [==============================] - 392s 124ms/step - loss: 1.0525 - acc: 0.7096\n",
            "Epoch 6/9\n",
            "3157/3157 [==============================] - 392s 124ms/step - loss: 0.9465 - acc: 0.7347\n",
            "Epoch 7/9\n",
            "3157/3157 [==============================] - 393s 124ms/step - loss: 0.8612 - acc: 0.7546\n",
            "Epoch 8/9\n",
            "3157/3157 [==============================] - 392s 124ms/step - loss: 0.7840 - acc: 0.7748\n",
            "Epoch 9/9\n",
            "3157/3157 [==============================] - 393s 125ms/step - loss: 0.7086 - acc: 0.7920\n",
            "CPU times: user 1h 47min 12s, sys: 2min 51s, total: 1h 50min 3s\n",
            "Wall time: 59min 25s\n"
          ]
        }
      ]
    },
    {
      "cell_type": "code",
      "metadata": {
        "id": "amBYLtZmbQJk"
      },
      "source": [
        "export_path = str(PROJECT_NAME)+\"/artifacts/model_ResNet50_before_ft.h5\"\n",
        "export_path\n",
        "clf.save(export_path, save_format='h5')"
      ],
      "execution_count": 107,
      "outputs": []
    },
    {
      "cell_type": "code",
      "metadata": {
        "id": "D2mb8YZhc1l7",
        "colab": {
          "base_uri": "https://localhost:8080/"
        },
        "outputId": "fd7a4a0d-4c21-40a5-f393-65fd9d11e63f"
      },
      "source": [
        "# unfreeze first layer\n",
        "clf.layers[0].trainable = True\n",
        "clf.summary()"
      ],
      "execution_count": 108,
      "outputs": [
        {
          "output_type": "stream",
          "name": "stdout",
          "text": [
            "Model: \"sequential_3\"\n",
            "_________________________________________________________________\n",
            "Layer (type)                 Output Shape              Param #   \n",
            "=================================================================\n",
            "resnet50 (Functional)        (None, 7, 7, 2048)        23587712  \n",
            "_________________________________________________________________\n",
            "global_average_pooling2d_3 ( (None, 2048)              0         \n",
            "_________________________________________________________________\n",
            "dense_3 (Dense)              (None, 1024)              2098176   \n",
            "_________________________________________________________________\n",
            "classification (Dense)       (None, 101)               103525    \n",
            "=================================================================\n",
            "Total params: 25,789,413\n",
            "Trainable params: 25,736,293\n",
            "Non-trainable params: 53,120\n",
            "_________________________________________________________________\n"
          ]
        }
      ]
    },
    {
      "cell_type": "code",
      "metadata": {
        "id": "Gf2PBK9VdCT1"
      },
      "source": [
        "base_learning_rate=0.001\n",
        "\n",
        "clf.compile(\n",
        "  optimizer=tf.keras.optimizers.RMSprop(lr=base_learning_rate/10),\n",
        "  #loss=tf.keras.losses.CategoricalCrossentropy(from_logits=True),\n",
        "  loss='categorical_crossentropy' ,\n",
        "  metrics=['acc'])"
      ],
      "execution_count": 109,
      "outputs": []
    },
    {
      "cell_type": "code",
      "metadata": {
        "id": "KIE2YrOgdA6s"
      },
      "source": [
        "callbacks = [\n",
        "    tf.keras.callbacks.CSVLogger(str(str(PROJECT_NAME)+\"/artifacts/training_ResNet50_ft2.log\"))\n",
        "]"
      ],
      "execution_count": 110,
      "outputs": []
    },
    {
      "cell_type": "markdown",
      "metadata": {
        "id": "WKklf8kI8I7C"
      },
      "source": [
        "#### Model results"
      ]
    },
    {
      "cell_type": "code",
      "metadata": {
        "id": "9BzSdoJkdJmv",
        "colab": {
          "base_uri": "https://localhost:8080/"
        },
        "outputId": "f384917a-e58a-4eba-c9ce-1370cda5dce7"
      },
      "source": [
        "%%time\n",
        "image_data_gen = get_image_data_generator (preprocessing_function=tf.keras.applications.resnet50.preprocess_input)\n",
        "\n",
        "history = clf.fit(image_data_gen\n",
        "                        ,epochs=5\n",
        "                        ,workers=8 \n",
        "                        ,callbacks=callbacks\n",
        "                        )"
      ],
      "execution_count": 111,
      "outputs": [
        {
          "output_type": "stream",
          "name": "stdout",
          "text": [
            "Found 101000 images belonging to 101 classes.\n",
            "Epoch 1/5\n",
            "3157/3157 [==============================] - 623s 197ms/step - loss: 1.2177 - acc: 0.6756\n",
            "Epoch 2/5\n",
            "3157/3157 [==============================] - 623s 197ms/step - loss: 0.7125 - acc: 0.8011\n",
            "Epoch 3/5\n",
            "3157/3157 [==============================] - 625s 198ms/step - loss: 0.4272 - acc: 0.8737\n",
            "Epoch 4/5\n",
            "3157/3157 [==============================] - 625s 198ms/step - loss: 0.2844 - acc: 0.9121\n",
            "Epoch 5/5\n",
            "3157/3157 [==============================] - 625s 198ms/step - loss: 0.2094 - acc: 0.9353\n",
            "CPU times: user 1h 22min 46s, sys: 6min 28s, total: 1h 29min 14s\n",
            "Wall time: 52min 22s\n"
          ]
        }
      ]
    },
    {
      "cell_type": "markdown",
      "metadata": {
        "id": "DT4AteZDSnKr"
      },
      "source": [
        "#### Save model"
      ]
    },
    {
      "cell_type": "code",
      "metadata": {
        "id": "bj3ZLhThSsK4"
      },
      "source": [
        "export_path = str(PROJECT_NAME)+\"/artifacts/model_ResNet50_ft.h5\"\n",
        "export_path\n",
        "clf.save(export_path, save_format='h5')"
      ],
      "execution_count": 112,
      "outputs": []
    },
    {
      "cell_type": "code",
      "metadata": {
        "id": "Its7kc8VsNzj"
      },
      "source": [
        ""
      ],
      "execution_count": 112,
      "outputs": []
    },
    {
      "cell_type": "markdown",
      "metadata": {
        "id": "yMc4g4VJw9hA"
      },
      "source": [
        "# Time to Train"
      ]
    },
    {
      "cell_type": "code",
      "metadata": {
        "id": "tqKB6VX3Ssf8",
        "colab": {
          "base_uri": "https://localhost:8080/"
        },
        "outputId": "e90a17ef-b254-4ee8-9faf-c5fc3f009026"
      },
      "source": [
        "now2 = datetime.now()\n",
        "\n",
        "end_time = now2.strftime(\"%H:%M:%S\")\n",
        "print(\"End Time =\", end_time)"
      ],
      "execution_count": 113,
      "outputs": [
        {
          "output_type": "stream",
          "name": "stdout",
          "text": [
            "End Time = 14:42:29\n"
          ]
        }
      ]
    },
    {
      "cell_type": "code",
      "metadata": {
        "id": "eThpapNJxDET",
        "colab": {
          "base_uri": "https://localhost:8080/"
        },
        "outputId": "809021dd-fbed-4206-b93f-77b474c0ef12"
      },
      "source": [
        "diff2=((now2-now1).total_seconds() )/ (60)\n",
        "print(\"Time to run (minutes): \", diff2)"
      ],
      "execution_count": 114,
      "outputs": [
        {
          "output_type": "stream",
          "name": "stdout",
          "text": [
            "Time to run (minutes):  215.7089538666667\n"
          ]
        }
      ]
    },
    {
      "cell_type": "markdown",
      "metadata": {
        "id": "Bk6M8HvofvTR"
      },
      "source": [
        "# Get Model Size"
      ]
    },
    {
      "cell_type": "code",
      "metadata": {
        "id": "bWPA6uYlUyBV",
        "colab": {
          "base_uri": "https://localhost:8080/"
        },
        "outputId": "c3568bb5-6118-4339-a34b-036100d3f198"
      },
      "source": [
        "! du -h {PROJECT_NAME}/artifacts"
      ],
      "execution_count": 115,
      "outputs": [
        {
          "output_type": "stream",
          "name": "stdout",
          "text": [
            "538M\tproject_food_dl/artifacts\n"
          ]
        }
      ]
    },
    {
      "cell_type": "code",
      "metadata": {
        "id": "fbIPxgoN3zvd",
        "colab": {
          "base_uri": "https://localhost:8080/"
        },
        "outputId": "d823b4a9-39e7-416a-a9ab-b2c5b9e5d682"
      },
      "source": [
        "!ls {PROJECT_NAME}/artifacts/ -lah"
      ],
      "execution_count": 116,
      "outputs": [
        {
          "output_type": "stream",
          "name": "stdout",
          "text": [
            "total 538M\n",
            "drwxr-xr-x 2 root root 4.0K Sep 27 14:42 .\n",
            "drwxr-xr-x 4 root root 4.0K Sep 27 11:07 ..\n",
            "-rw-r--r-- 1 root root 1.5K Sep 27 11:13 classes.json\n",
            "-rw-r--r-- 1 root root  26M Sep 27 12:50 model_MobileNetV2.h5\n",
            "-rw-r--r-- 1 root root 116M Sep 27 13:50 model_ResNet50_before_ft.h5\n",
            "-rw-r--r-- 1 root root 198M Sep 27 14:42 model_ResNet50_ft.h5\n",
            "-rw-r--r-- 1 root root 116M Sep 27 12:20 model_ResNet50.h5\n",
            "-rw-r--r-- 1 root root  84M Sep 27 11:47 model_VGG19.h5\n",
            "-rw-r--r-- 1 root root  217 Sep 27 12:50 training_MobileNetV2.log\n",
            "-rw-r--r-- 1 root root  224 Sep 27 14:42 training_ResNet50_ft2.log\n",
            "-rw-r--r-- 1 root root  382 Sep 27 13:50 training_ResNet50_ft.log\n",
            "-rw-r--r-- 1 root root  221 Sep 27 12:20 training_ResNet50.log\n",
            "-rw-r--r-- 1 root root  221 Sep 27 11:47 training_VGG19.log\n"
          ]
        }
      ]
    },
    {
      "cell_type": "markdown",
      "metadata": {
        "id": "bILr-eFU-wUG"
      },
      "source": [
        "# Compare Models\n",
        "\n",
        "- Dataset:  Food\n",
        "- Classes: 101\n",
        "- Total images: 101000\n",
        "- Batch size: 32\n",
        "\n",
        "| Model  | Trainable Params| Non-trainable Params | Time (hh:mm:ss) [a]| Accuracy | Epochs | Model Size [b]\n",
        "|---|---:|---:|---:|---:| ---:|---:|\n",
        "| VGG19| 628,837   | 20,024,384 | 00:33:45 | 59.2% | 5 | 87M\n",
        "| ResNet50   | 2,201,701   | 23,587,712 |  00:33:12 | 70.9% | 5 | 121M\n",
        "| MobileNetV2  | 1,415,269  | 2,257,984 |   00:30:11 | 72.3% | 5 | 26M\n",
        "| ResNet50_ft [c]  | 25,736,293  | 53,120 | 01:41:00   | 93.3% | 14 | 206M\n",
        "\n",
        "NOTES:  \n",
        "- [a] If wall clock time < CPU time, then you're executing a program in parallel.\n",
        "- [b] model size is size of output file\n",
        "- [c] ft = fine-tuned; time 52min ; 59min; epochs 9+5\n"
      ]
    },
    {
      "cell_type": "markdown",
      "metadata": {
        "id": "0K-dkX_Jgn0R"
      },
      "source": [
        "---"
      ]
    },
    {
      "cell_type": "markdown",
      "metadata": {
        "id": "oh76dgMeVIDD"
      },
      "source": [
        "# Download Assets\n",
        "#### download MobileNetV2 model"
      ]
    },
    {
      "cell_type": "code",
      "metadata": {
        "id": "jqxTNOVCoHCc",
        "colab": {
          "base_uri": "https://localhost:8080/"
        },
        "outputId": "479091cb-7223-4ae8-f206-905e08fcab6f"
      },
      "source": [
        "!zip -r {PROJECT_NAME}/artifacts/artifacts.zip {PROJECT_NAME}/artifacts/"
      ],
      "execution_count": 117,
      "outputs": [
        {
          "output_type": "stream",
          "name": "stdout",
          "text": [
            "  adding: project_food_dl/artifacts/ (stored 0%)\n",
            "  adding: project_food_dl/artifacts/training_ResNet50_ft.log (deflated 43%)\n",
            "  adding: project_food_dl/artifacts/training_MobileNetV2.log (deflated 37%)\n",
            "  adding: project_food_dl/artifacts/model_ResNet50_ft.h5 (deflated 11%)\n",
            "  adding: project_food_dl/artifacts/model_ResNet50.h5 (deflated 11%)\n",
            "  adding: project_food_dl/artifacts/training_VGG19.log (deflated 36%)\n",
            "  adding: project_food_dl/artifacts/model_VGG19.h5 (deflated 8%)\n",
            "  adding: project_food_dl/artifacts/model_MobileNetV2.h5 (deflated 13%)\n",
            "  adding: project_food_dl/artifacts/training_ResNet50_ft2.log (deflated 37%)\n",
            "  adding: project_food_dl/artifacts/classes.json (deflated 56%)\n",
            "  adding: project_food_dl/artifacts/model_ResNet50_before_ft.h5 (deflated 11%)\n",
            "  adding: project_food_dl/artifacts/training_ResNet50.log (deflated 36%)\n"
          ]
        }
      ]
    },
    {
      "cell_type": "code",
      "metadata": {
        "id": "63KIL2HndL-c",
        "colab": {
          "base_uri": "https://localhost:8080/",
          "height": 17
        },
        "outputId": "0f7cdc5b-5b6c-49cd-fb9b-5202384b902f"
      },
      "source": [
        "from google.colab import files\n",
        "files.download(str(str(PROJECT_NAME)+\"/artifacts/artifacts.zip\"))"
      ],
      "execution_count": 118,
      "outputs": [
        {
          "output_type": "display_data",
          "data": {
            "application/javascript": [
              "\n",
              "    async function download(id, filename, size) {\n",
              "      if (!google.colab.kernel.accessAllowed) {\n",
              "        return;\n",
              "      }\n",
              "      const div = document.createElement('div');\n",
              "      const label = document.createElement('label');\n",
              "      label.textContent = `Downloading \"${filename}\": `;\n",
              "      div.appendChild(label);\n",
              "      const progress = document.createElement('progress');\n",
              "      progress.max = size;\n",
              "      div.appendChild(progress);\n",
              "      document.body.appendChild(div);\n",
              "\n",
              "      const buffers = [];\n",
              "      let downloaded = 0;\n",
              "\n",
              "      const channel = await google.colab.kernel.comms.open(id);\n",
              "      // Send a message to notify the kernel that we're ready.\n",
              "      channel.send({})\n",
              "\n",
              "      for await (const message of channel.messages) {\n",
              "        // Send a message to notify the kernel that we're ready.\n",
              "        channel.send({})\n",
              "        if (message.buffers) {\n",
              "          for (const buffer of message.buffers) {\n",
              "            buffers.push(buffer);\n",
              "            downloaded += buffer.byteLength;\n",
              "            progress.value = downloaded;\n",
              "          }\n",
              "        }\n",
              "      }\n",
              "      const blob = new Blob(buffers, {type: 'application/binary'});\n",
              "      const a = document.createElement('a');\n",
              "      a.href = window.URL.createObjectURL(blob);\n",
              "      a.download = filename;\n",
              "      div.appendChild(a);\n",
              "      a.click();\n",
              "      div.remove();\n",
              "    }\n",
              "  "
            ],
            "text/plain": [
              "<IPython.core.display.Javascript object>"
            ]
          },
          "metadata": {}
        },
        {
          "output_type": "display_data",
          "data": {
            "application/javascript": [
              "download(\"download_83b76868-f212-4fd3-a6e5-1609a015271c\", \"artifacts.zip\", 503185544)"
            ],
            "text/plain": [
              "<IPython.core.display.Javascript object>"
            ]
          },
          "metadata": {}
        }
      ]
    },
    {
      "cell_type": "code",
      "metadata": {
        "id": "GVrj_UAD-xDr"
      },
      "source": [
        ""
      ],
      "execution_count": 118,
      "outputs": []
    },
    {
      "cell_type": "markdown",
      "metadata": {
        "id": "v_gyW7wtzt5W"
      },
      "source": [
        "# Model Prediction"
      ]
    },
    {
      "cell_type": "code",
      "metadata": {
        "id": "WWK6eUGw5T4n"
      },
      "source": [
        "# if you want to delete a directory from past runs\n",
        "!rm -rf {PROJECT_NAME}/test_image"
      ],
      "execution_count": 132,
      "outputs": []
    },
    {
      "cell_type": "code",
      "metadata": {
        "id": "WUnud1rfurW-"
      },
      "source": [
        "# create a sub-directory for data\n",
        "!mkdir -p {PROJECT_NAME}/test_image"
      ],
      "execution_count": 133,
      "outputs": []
    },
    {
      "cell_type": "code",
      "metadata": {
        "id": "CsZJ0GOBHVQ_",
        "colab": {
          "base_uri": "https://localhost:8080/"
        },
        "outputId": "e593568b-a8de-49d9-9928-cabeae216005"
      },
      "source": [
        "!wget https://upload.wikimedia.org/wikipedia/commons/9/99/Black_square.jpg -P {PROJECT_NAME}/test_image -O {PROJECT_NAME}/test_image/black_square.jpg"
      ],
      "execution_count": 134,
      "outputs": [
        {
          "output_type": "stream",
          "name": "stdout",
          "text": [
            "--2021-09-27 15:06:35--  https://upload.wikimedia.org/wikipedia/commons/9/99/Black_square.jpg\n",
            "Resolving upload.wikimedia.org (upload.wikimedia.org)... 198.35.26.112, 2620:0:863:ed1a::2:b\n",
            "Connecting to upload.wikimedia.org (upload.wikimedia.org)|198.35.26.112|:443... connected.\n",
            "HTTP request sent, awaiting response... 200 OK\n",
            "Length: 5450 (5.3K) [image/jpeg]\n",
            "Saving to: ‘project_food_dl/test_image/black_square.jpg’\n",
            "\n",
            "black_square.jpg    100%[===================>]   5.32K  --.-KB/s    in 0s      \n",
            "\n",
            "2021-09-27 15:06:35 (298 MB/s) - ‘project_food_dl/test_image/black_square.jpg’ saved [5450/5450]\n",
            "\n"
          ]
        }
      ]
    },
    {
      "cell_type": "code",
      "metadata": {
        "id": "TWO4QVmhIGkw",
        "colab": {
          "base_uri": "https://localhost:8080/"
        },
        "outputId": "3bee57fb-38c5-45b2-dad9-6de4cd37b239"
      },
      "source": [
        "!wget https://upload.wikimedia.org/wikipedia/commons/thumb/7/76/Solanum_melongena_24_08_2012_%281%29.JPG/1280px-Solanum_melongena_24_08_2012_%281%29.JPG  -P {PROJECT_NAME}/test_image -O {PROJECT_NAME}/test_image/eggplant.jpg"
      ],
      "execution_count": 135,
      "outputs": [
        {
          "output_type": "stream",
          "name": "stdout",
          "text": [
            "--2021-09-27 15:06:36--  https://upload.wikimedia.org/wikipedia/commons/thumb/7/76/Solanum_melongena_24_08_2012_%281%29.JPG/1280px-Solanum_melongena_24_08_2012_%281%29.JPG\n",
            "Resolving upload.wikimedia.org (upload.wikimedia.org)... 198.35.26.112, 2620:0:863:ed1a::2:b\n",
            "Connecting to upload.wikimedia.org (upload.wikimedia.org)|198.35.26.112|:443... connected.\n",
            "HTTP request sent, awaiting response... 200 OK\n",
            "Length: 387048 (378K) [image/jpeg]\n",
            "Saving to: ‘project_food_dl/test_image/eggplant.jpg’\n",
            "\n",
            "\reggplant.jpg          0%[                    ]       0  --.-KB/s               \reggplant.jpg        100%[===================>] 377.98K  --.-KB/s    in 0.08s   \n",
            "\n",
            "2021-09-27 15:06:37 (4.69 MB/s) - ‘project_food_dl/test_image/eggplant.jpg’ saved [387048/387048]\n",
            "\n"
          ]
        }
      ]
    },
    {
      "cell_type": "code",
      "metadata": {
        "id": "BbYvKQOzGfRO",
        "colab": {
          "base_uri": "https://localhost:8080/"
        },
        "outputId": "92a9ba52-3647-4c4f-ebfa-a73c6d86e6f2"
      },
      "source": [
        "# \n",
        "! wget https://image.shutterstock.com/image-photo/brown-light-wooden-round-dining-260nw-588358070.jpg -P {PROJECT_NAME}/test_image  -O {PROJECT_NAME}/test_image/table.jpg\n"
      ],
      "execution_count": 136,
      "outputs": [
        {
          "output_type": "stream",
          "name": "stdout",
          "text": [
            "--2021-09-27 15:06:41--  https://image.shutterstock.com/image-photo/brown-light-wooden-round-dining-260nw-588358070.jpg\n",
            "Resolving image.shutterstock.com (image.shutterstock.com)... 99.86.38.49, 99.86.38.108, 99.86.38.89, ...\n",
            "Connecting to image.shutterstock.com (image.shutterstock.com)|99.86.38.49|:443... connected.\n",
            "HTTP request sent, awaiting response... 200 OK\n",
            "Length: 11954 (12K) [image/jpeg]\n",
            "Saving to: ‘project_food_dl/test_image/table.jpg’\n",
            "\n",
            "\rtable.jpg             0%[                    ]       0  --.-KB/s               \rtable.jpg           100%[===================>]  11.67K  --.-KB/s    in 0s      \n",
            "\n",
            "2021-09-27 15:06:42 (147 MB/s) - ‘project_food_dl/test_image/table.jpg’ saved [11954/11954]\n",
            "\n"
          ]
        }
      ]
    },
    {
      "cell_type": "code",
      "metadata": {
        "colab": {
          "base_uri": "https://localhost:8080/"
        },
        "id": "klyr7CaZzbiA",
        "outputId": "372d88e6-e8dd-48c8-931a-4d6b596172e6"
      },
      "source": [
        "! wget https://upload.wikimedia.org/wikipedia/commons/6/61/Small_apple_pie_8.jpg -P {PROJECT_NAME}/test_image  -O {PROJECT_NAME}/test_image/apple_pie.jpg\n",
        "\n"
      ],
      "execution_count": 168,
      "outputs": [
        {
          "output_type": "stream",
          "name": "stdout",
          "text": [
            "--2021-09-27 15:13:44--  https://upload.wikimedia.org/wikipedia/commons/6/61/Small_apple_pie_8.jpg\n",
            "Resolving upload.wikimedia.org (upload.wikimedia.org)... 198.35.26.112, 2620:0:863:ed1a::2:b\n",
            "Connecting to upload.wikimedia.org (upload.wikimedia.org)|198.35.26.112|:443... connected.\n",
            "HTTP request sent, awaiting response... 200 OK\n",
            "Length: 6127171 (5.8M) [image/jpeg]\n",
            "Saving to: ‘project_food_dl/test_image/apple_pie.jpg’\n",
            "\n",
            "apple_pie.jpg       100%[===================>]   5.84M  21.6MB/s    in 0.3s    \n",
            "\n",
            "2021-09-27 15:13:45 (21.6 MB/s) - ‘project_food_dl/test_image/apple_pie.jpg’ saved [6127171/6127171]\n",
            "\n"
          ]
        }
      ]
    },
    {
      "cell_type": "code",
      "metadata": {
        "id": "V0nAfbdGHfDV",
        "colab": {
          "base_uri": "https://localhost:8080/",
          "height": 35
        },
        "outputId": "14f56a09-e2d0-4d49-bebf-3279939548b5"
      },
      "source": [
        "#img_path = f\"{PROJECT_NAME}/test_image/eggplant.jpg\"\n",
        "#img_path = f\"{PROJECT_NAME}/test_image/table.jpg\"\n",
        "#img_path = f\"{PROJECT_NAME}/test_image/black_square.jpg\"\n",
        "img_path = f\"{PROJECT_NAME}/test_image/apple_pie.jpg\"\n",
        "\n",
        "img_path"
      ],
      "execution_count": 169,
      "outputs": [
        {
          "output_type": "execute_result",
          "data": {
            "application/vnd.google.colaboratory.intrinsic+json": {
              "type": "string"
            },
            "text/plain": [
              "'project_food_dl/test_image/apple_pie.jpg'"
            ]
          },
          "metadata": {},
          "execution_count": 169
        }
      ]
    },
    {
      "cell_type": "code",
      "metadata": {
        "id": "qLM5JxwEsih9",
        "colab": {
          "base_uri": "https://localhost:8080/",
          "height": 241
        },
        "outputId": "d231442b-e381-4a37-8956-bfd2ce99e012"
      },
      "source": [
        "tf.keras.preprocessing.image.load_img(img_path, target_size = (IMG_HEIGHT, IMG_WIDTH))\n"
      ],
      "execution_count": 170,
      "outputs": [
        {
          "output_type": "execute_result",
          "data": {
            "image/png": "[encoded data removed]",
            "text/plain": [
              "<PIL.Image.Image image mode=RGB size=224x224 at 0x7FF5D095D8D0>"
            ]
          },
          "metadata": {},
          "execution_count": 170
        }
      ]
    },
    {
      "cell_type": "code",
      "metadata": {
        "id": "3Eynl7n2simr"
      },
      "source": [
        "def load_img_predict(img_path):\n",
        "    img = tf.keras.preprocessing.image.load_img(img_path, target_size = (IMG_HEIGHT, IMG_WIDTH))\n",
        "    img = tf.keras.preprocessing.image.img_to_array(img)\n",
        "    img = tf.keras.applications.mobilenet_v2.preprocess_input(img)\n",
        "\n",
        "    img = np.expand_dims(img, axis = 0)\n",
        "    \n",
        "    return img"
      ],
      "execution_count": 171,
      "outputs": []
    },
    {
      "cell_type": "code",
      "metadata": {
        "id": "tOfTwls9jJKW",
        "colab": {
          "base_uri": "https://localhost:8080/"
        },
        "outputId": "4d301a7f-4b01-4149-ad3e-a04c43db4cbf"
      },
      "source": [
        "#classifier = classifier['MobileNetV2']\n",
        "#classifier = classifier['VGG19']\n",
        "clf_final.summary()"
      ],
      "execution_count": 172,
      "outputs": [
        {
          "output_type": "stream",
          "name": "stdout",
          "text": [
            "Model: \"sequential_2\"\n",
            "_________________________________________________________________\n",
            "Layer (type)                 Output Shape              Param #   \n",
            "=================================================================\n",
            "mobilenetv2_1.00_224 (Functi (None, 7, 7, 1280)        2257984   \n",
            "_________________________________________________________________\n",
            "global_average_pooling2d_2 ( (None, 1280)              0         \n",
            "_________________________________________________________________\n",
            "dense_2 (Dense)              (None, 1024)              1311744   \n",
            "_________________________________________________________________\n",
            "classification (Dense)       (None, 101)               103525    \n",
            "=================================================================\n",
            "Total params: 3,673,253\n",
            "Trainable params: 1,415,269\n",
            "Non-trainable params: 2,257,984\n",
            "_________________________________________________________________\n"
          ]
        }
      ]
    },
    {
      "cell_type": "code",
      "metadata": {
        "id": "8xyUQ-MxsoNN"
      },
      "source": [
        "def predict_image(img_path,classifier):\n",
        "    img = load_img_predict(img_path)\n",
        "    res = clf_final.predict(img)\n",
        "\n",
        "    res = sorted (\n",
        "        list(zip ( \n",
        "            list(image_data_gen.class_indices.keys())\n",
        "            , np.squeeze(res)\n",
        "         )\n",
        "        )\n",
        "     , key=lambda x: x[1]   \n",
        "     , reverse=True\n",
        "    )\n",
        "    \n",
        "    return res"
      ],
      "execution_count": 173,
      "outputs": []
    },
    {
      "cell_type": "code",
      "metadata": {
        "id": "HSU62bAHsoUt",
        "colab": {
          "base_uri": "https://localhost:8080/"
        },
        "outputId": "207ba272-622c-4a79-c5a1-c190317a3088"
      },
      "source": [
        "predict_image(img_path,clf_final)[:15]"
      ],
      "execution_count": 174,
      "outputs": [
        {
          "output_type": "execute_result",
          "data": {
            "text/plain": [
              "[('apple_pie', 0.80408585),\n",
              " ('cup_cakes', 0.11340803),\n",
              " ('donuts', 0.033334356),\n",
              " ('baklava', 0.01887341),\n",
              " ('churros', 0.015212525),\n",
              " ('chocolate_cake', 0.004045012),\n",
              " ('carrot_cake', 0.0027939745),\n",
              " ('cheesecake', 0.0015421391),\n",
              " ('macarons', 0.0012604363),\n",
              " ('macaroni_and_cheese', 0.00053247757),\n",
              " ('dumplings', 0.00052628876),\n",
              " ('grilled_cheese_sandwich', 0.0004505205),\n",
              " ('tiramisu', 0.00040937297),\n",
              " ('red_velvet_cake', 0.0003911354),\n",
              " ('waffles', 0.00037280764)]"
            ]
          },
          "metadata": {},
          "execution_count": 174
        }
      ]
    },
    {
      "cell_type": "code",
      "metadata": {
        "id": "CU9ACHvSIEnZ"
      },
      "source": [
        ""
      ],
      "execution_count": 174,
      "outputs": []
    },
    {
      "cell_type": "code",
      "metadata": {
        "id": "xVz7Xf40tPPP",
        "colab": {
          "base_uri": "https://localhost:8080/"
        },
        "outputId": "54a4453c-e201-4dfa-bb54-50ff9a2da871"
      },
      "source": [
        "now_end = datetime.now()\n",
        "\n",
        "end_notebook_time = now_end.strftime(\"%H:%M:%S\")\n",
        "print(\"End Notebook Time=\", end_notebook_time)\n",
        "\n",
        "diff2=((now_end - now1).total_seconds() )/ (60)\n",
        "print(\"Time to run this notebook (minutes): \", diff2)\n"
      ],
      "execution_count": 175,
      "outputs": [
        {
          "output_type": "stream",
          "name": "stdout",
          "text": [
            "End Notebook Time= 15:13:57\n",
            "Time to run this notebook (minutes):  247.17395663333335\n"
          ]
        }
      ]
    },
    {
      "cell_type": "code",
      "metadata": {
        "id": "oSIWP2WkwCYv",
        "colab": {
          "base_uri": "https://localhost:8080/"
        },
        "outputId": "a7825a4e-5117-43c5-d0aa-4387efe2b84b"
      },
      "source": [
        "print(\"Number of classes used in dataset:\", subset)"
      ],
      "execution_count": 176,
      "outputs": [
        {
          "output_type": "stream",
          "name": "stdout",
          "text": [
            "Number of classes used in dataset: 102\n"
          ]
        }
      ]
    },
    {
      "cell_type": "code",
      "metadata": {
        "id": "MoU3KdDSWKZa"
      },
      "source": [
        ""
      ],
      "execution_count": 131,
      "outputs": []
    }
  ]
}